{
 "cells": [
  {
   "cell_type": "markdown",
   "id": "c12d4951",
   "metadata": {},
   "source": [
    "rmsprop = RMSprop(\n",
    "    learning_rate=0.001,\n",
    ")\n",
    "Dense(1024)"
   ]
  },
  {
   "cell_type": "code",
   "execution_count": 1,
   "id": "bf98f605",
   "metadata": {},
   "outputs": [
    {
     "name": "stderr",
     "output_type": "stream",
     "text": [
      "2023-01-20 01:31:11.109454: I tensorflow/core/platform/cpu_feature_guard.cc:193] This TensorFlow binary is optimized with oneAPI Deep Neural Network Library (oneDNN) to use the following CPU instructions in performance-critical operations:  AVX2 AVX512F AVX512_VNNI FMA\n",
      "To enable them in other operations, rebuild TensorFlow with the appropriate compiler flags.\n",
      "2023-01-20 01:31:11.242407: I tensorflow/core/util/port.cc:104] oneDNN custom operations are on. You may see slightly different numerical results due to floating-point round-off errors from different computation orders. To turn them off, set the environment variable `TF_ENABLE_ONEDNN_OPTS=0`.\n",
      "2023-01-20 01:31:12.064478: W tensorflow/compiler/xla/stream_executor/platform/default/dso_loader.cc:64] Could not load dynamic library 'libnvinfer.so.7'; dlerror: libnvinfer.so.7: cannot open shared object file: No such file or directory; LD_LIBRARY_PATH: /usr/local/cuda/lib64:/usr/local/nccl2/lib:/usr/local/cuda/extras/CUPTI/lib64\n",
      "2023-01-20 01:31:12.064571: W tensorflow/compiler/xla/stream_executor/platform/default/dso_loader.cc:64] Could not load dynamic library 'libnvinfer_plugin.so.7'; dlerror: libnvinfer_plugin.so.7: cannot open shared object file: No such file or directory; LD_LIBRARY_PATH: /usr/local/cuda/lib64:/usr/local/nccl2/lib:/usr/local/cuda/extras/CUPTI/lib64\n",
      "2023-01-20 01:31:12.064581: W tensorflow/compiler/tf2tensorrt/utils/py_utils.cc:38] TF-TRT Warning: Cannot dlopen some TensorRT libraries. If you would like to use Nvidia GPU with TensorRT, please make sure the missing libraries mentioned above are installed properly.\n"
     ]
    }
   ],
   "source": [
    "import os\n",
    "import io\n",
    "from zipfile import ZipFile\n",
    "import pandas as pd\n",
    "import tensorflow as tf\n",
    "from PIL import Image\n",
    "import numpy as np\n",
    "import random\n",
    "import matplotlib.image as mpimg\n",
    "import matplotlib.pyplot as plt\n",
    "import cv2\n",
    "from sklearn.metrics import *\n",
    "import os\n",
    "import zipfile\n",
    "from keras.utils import np_utils\n",
    "from sklearn.model_selection import train_test_split\n",
    "from tensorflow.keras.preprocessing.image import ImageDataGenerator"
   ]
  },
  {
   "cell_type": "code",
   "execution_count": 2,
   "id": "700e78ba",
   "metadata": {},
   "outputs": [],
   "source": [
    "#백내장 무 폴더 정리\n",
    "img_dir0 = './eyes_train/eye_train/0'\n",
    "img0 = os.listdir(img_dir0)\n",
    "image0 = list(filter(lambda x: x.find('.jpg') != -1 or x.find('.png') != -1, img0))\n",
    "label0 = list(filter(lambda x : x.find('.json')!=-1,img0))\n",
    "image_0 = []\n",
    "image_label0 = []\n",
    "for i in image0:\n",
    "    img = np.array(Image.open('./eyes_train/eye_train/0/{}'.format(i)))\n",
    "    im = img[50:350,50:350]\n",
    "    im0 = cv2.resize(im,(224,224))\n",
    "    image_0.append(im0)\n",
    "    image_label0.append(0)"
   ]
  },
  {
   "cell_type": "code",
   "execution_count": 3,
   "id": "f650fc38",
   "metadata": {},
   "outputs": [],
   "source": [
    "#백내장 초기 폴더 정리\n",
    "img_dir1 = './eyes_train/eye_train/1'\n",
    "img1 = os.listdir(img_dir1)\n",
    "image1 = list(filter(lambda x: x.find('.jpg') != -1 or x.find('.png') != -1, img1))\n",
    "label1 = list(filter(lambda x : x.find('.json')!=-1,img1))\n",
    "for i in image1:\n",
    "    img = np.array(Image.open('./eyes_train/eye_train/1/{}'.format(i)))\n",
    "    im = img[50:350,50:350]\n",
    "    im1 = cv2.resize(im,(224,224))\n",
    "    image_0.append(im1)\n",
    "    image_label0.append(1)"
   ]
  },
  {
   "cell_type": "code",
   "execution_count": 4,
   "id": "549437d0",
   "metadata": {},
   "outputs": [],
   "source": [
    "#백내장 비성숙 폴더 정리\n",
    "img_dir2 = './eyes_train/eye_train/2'\n",
    "img2 = os.listdir(img_dir2)\n",
    "image2 = list(filter(lambda x: x.find('.jpg') != -1 or x.find('.png') != -1, img2))\n",
    "label2 = list(filter(lambda x : x.find('.json')!=-1,img2))\n",
    "for i in image2:\n",
    "    img = np.array(Image.open('./eyes_train/eye_train/2/{}'.format(i)))\n",
    "    im = img[50:350,50:350]\n",
    "    im2 = cv2.resize(im,(224,224))\n",
    "    image_0.append(im2)\n",
    "    image_label0.append(2)"
   ]
  },
  {
   "cell_type": "code",
   "execution_count": 5,
   "id": "ddb03655",
   "metadata": {},
   "outputs": [],
   "source": [
    "#백내장 성숙 폴더 정리\n",
    "img_dir3 = './eyes_train/eye_train/3'\n",
    "img3 = os.listdir(img_dir3)\n",
    "image3 = list(filter(lambda x: x.find('.jpg') != -1 or x.find('.png') != -1, img3))\n",
    "label3 = list(filter(lambda x : x.find('.json')!=-1,img3))\n",
    "for i in image3:\n",
    "    img = np.array(Image.open('./eyes_train/eye_train/3/{}'.format(i)))\n",
    "    im = img[50:350,50:350]\n",
    "    im3 = cv2.resize(im,(224,224))\n",
    "    image_0.append(im3)\n",
    "    image_label0.append(3)"
   ]
  },
  {
   "cell_type": "code",
   "execution_count": 6,
   "id": "4db0332f",
   "metadata": {},
   "outputs": [],
   "source": [
    "x = np.array(image_0)\n",
    "y = np.array(image_label0)"
   ]
  },
  {
   "cell_type": "code",
   "execution_count": 7,
   "id": "5a16738d",
   "metadata": {},
   "outputs": [],
   "source": [
    "#원핫 인코딩\n",
    "y = np_utils.to_categorical(y)"
   ]
  },
  {
   "cell_type": "code",
   "execution_count": 8,
   "id": "b1f93ec2",
   "metadata": {},
   "outputs": [],
   "source": [
    "#데이터 분할\n",
    "x_train, x_val, y_train, y_val = train_test_split(x, y, shuffle =True, test_size = 0.2, random_state = 123)"
   ]
  },
  {
   "cell_type": "code",
   "execution_count": 9,
   "id": "6bad89c2",
   "metadata": {},
   "outputs": [
    {
     "name": "stderr",
     "output_type": "stream",
     "text": [
      "2023-01-20 01:32:07.561672: I tensorflow/core/platform/cpu_feature_guard.cc:193] This TensorFlow binary is optimized with oneAPI Deep Neural Network Library (oneDNN) to use the following CPU instructions in performance-critical operations:  AVX2 AVX512F AVX512_VNNI FMA\n",
      "To enable them in other operations, rebuild TensorFlow with the appropriate compiler flags.\n",
      "2023-01-20 01:32:08.203031: I tensorflow/core/common_runtime/gpu/gpu_device.cc:1613] Created device /job:localhost/replica:0/task:0/device:GPU:0 with 38220 MB memory:  -> device: 0, name: NVIDIA A100-SXM4-40GB, pci bus id: 0000:00:04.0, compute capability: 8.0\n"
     ]
    }
   ],
   "source": [
    "from tensorflow.keras.models import Sequential\n",
    "from tensorflow.keras.layers import Conv2D,MaxPool2D, Dense, Flatten, BatchNormalization, Activation\n",
    "from tensorflow.keras.optimizers import Adam, RMSprop\n",
    "from tensorflow.keras.applications.efficientnet import EfficientNetB5\n",
    "from tensorflow.nn import silu\n",
    "#EfficientNetB5불러오기\n",
    "Eff = EfficientNetB5(weights = 'imagenet', input_shape = (224,224,3), include_top = False, pooling = 'avg')"
   ]
  },
  {
   "cell_type": "code",
   "execution_count": 10,
   "id": "c8e8feb6",
   "metadata": {},
   "outputs": [],
   "source": [
    "rmsprop = RMSprop(\n",
    "    learning_rate=0.001,\n",
    ")"
   ]
  },
  {
   "cell_type": "code",
   "execution_count": 11,
   "id": "877a389f",
   "metadata": {},
   "outputs": [
    {
     "name": "stdout",
     "output_type": "stream",
     "text": [
      "Epoch 1/10\n"
     ]
    },
    {
     "name": "stderr",
     "output_type": "stream",
     "text": [
      "2023-01-20 01:32:46.360238: E tensorflow/core/grappler/optimizers/meta_optimizer.cc:954] layout failed: INVALID_ARGUMENT: Size of values 0 does not match size of permutation 4 @ fanin shape insequential/efficientnetb5/block1b_drop/dropout/SelectV2-2-TransposeNHWCToNCHW-LayoutOptimizer\n",
      "2023-01-20 01:32:51.196646: I tensorflow/compiler/xla/stream_executor/cuda/cuda_dnn.cc:428] Loaded cuDNN version 8200\n",
      "2023-01-20 01:32:52.841498: I tensorflow/compiler/xla/stream_executor/cuda/cuda_blas.cc:630] TensorFloat-32 will be used for the matrix multiplication. This will only be logged once.\n",
      "2023-01-20 01:32:52.895288: I tensorflow/compiler/xla/service/service.cc:173] XLA service 0x7f6afe3a0040 initialized for platform CUDA (this does not guarantee that XLA will be used). Devices:\n",
      "2023-01-20 01:32:52.895322: I tensorflow/compiler/xla/service/service.cc:181]   StreamExecutor device (0): NVIDIA A100-SXM4-40GB, Compute Capability 8.0\n",
      "2023-01-20 01:32:52.900572: I tensorflow/compiler/mlir/tensorflow/utils/dump_mlir_util.cc:268] disabling MLIR crash reproducer, set env var `MLIR_CRASH_REPRODUCER_DIRECTORY` to enable.\n",
      "2023-01-20 01:32:53.023991: I tensorflow/compiler/jit/xla_compilation_cache.cc:477] Compiled cluster using XLA!  This line is logged at most once for the lifetime of the process.\n"
     ]
    },
    {
     "name": "stdout",
     "output_type": "stream",
     "text": [
      "688/688 [==============================] - 212s 207ms/step - loss: 0.6534 - accuracy: 0.7223 - val_loss: 0.5939 - val_accuracy: 0.7489\n",
      "Epoch 2/10\n",
      "688/688 [==============================] - 138s 201ms/step - loss: 0.4579 - accuracy: 0.8135 - val_loss: 0.4331 - val_accuracy: 0.8143\n",
      "Epoch 3/10\n",
      "688/688 [==============================] - 138s 201ms/step - loss: 0.3576 - accuracy: 0.8577 - val_loss: 0.4254 - val_accuracy: 0.8281\n",
      "Epoch 4/10\n",
      "688/688 [==============================] - 138s 201ms/step - loss: 0.2988 - accuracy: 0.8938 - val_loss: 0.4959 - val_accuracy: 0.8270\n",
      "Epoch 5/10\n",
      "688/688 [==============================] - 138s 201ms/step - loss: 0.2274 - accuracy: 0.9190 - val_loss: 0.4407 - val_accuracy: 0.8557\n",
      "Epoch 6/10\n",
      "688/688 [==============================] - 138s 201ms/step - loss: 0.1767 - accuracy: 0.9384 - val_loss: 0.4061 - val_accuracy: 0.8683\n",
      "Epoch 7/10\n",
      "688/688 [==============================] - 138s 201ms/step - loss: 0.1444 - accuracy: 0.9489 - val_loss: 0.4232 - val_accuracy: 0.8674\n",
      "Epoch 8/10\n",
      "688/688 [==============================] - 138s 201ms/step - loss: 0.1179 - accuracy: 0.9575 - val_loss: 0.4413 - val_accuracy: 0.8652\n",
      "Epoch 9/10\n",
      "688/688 [==============================] - 138s 201ms/step - loss: 0.1026 - accuracy: 0.9637 - val_loss: 0.4986 - val_accuracy: 0.8723\n",
      "Epoch 10/10\n",
      "688/688 [==============================] - 138s 200ms/step - loss: 0.0930 - accuracy: 0.9698 - val_loss: 0.5937 - val_accuracy: 0.8452\n"
     ]
    }
   ],
   "source": [
    "model = Sequential()\n",
    "#분류기 직접 정리\n",
    "model.add(Eff)\n",
    "model.add(Dense(1024))\n",
    "model.add(BatchNormalization())\n",
    "model.add(Activation('silu'))\n",
    "model.add(Dense(4,activation = 'softmax'))\n",
    "model.compile(optimizer=rmsprop, # 옵티마이저 : rmsprop\n",
    "              loss = 'categorical_crossentropy', # 손실 함수 : sparse_categorical_crossentropy\n",
    "              metrics = ['accuracy']) # 모니터링 할 평가지표 : \n",
    "history = model.fit(x_train, y_train, \n",
    "                      epochs = 10, \n",
    "                      batch_size = 32, \n",
    "                      validation_data = (x_val, y_val))"
   ]
  },
  {
   "cell_type": "code",
   "execution_count": 12,
   "id": "f297065f",
   "metadata": {},
   "outputs": [
    {
     "name": "stdout",
     "output_type": "stream",
     "text": [
      "Model: \"sequential\"\n",
      "_________________________________________________________________\n",
      " Layer (type)                Output Shape              Param #   \n",
      "=================================================================\n",
      " efficientnetb5 (Functional)  (None, 2048)             28513527  \n",
      "                                                                 \n",
      " dense (Dense)               (None, 1024)              2098176   \n",
      "                                                                 \n",
      " batch_normalization (BatchN  (None, 1024)             4096      \n",
      " ormalization)                                                   \n",
      "                                                                 \n",
      " activation (Activation)     (None, 1024)              0         \n",
      "                                                                 \n",
      " dense_1 (Dense)             (None, 4)                 4100      \n",
      "                                                                 \n",
      "=================================================================\n",
      "Total params: 30,619,899\n",
      "Trainable params: 30,445,108\n",
      "Non-trainable params: 174,791\n",
      "_________________________________________________________________\n"
     ]
    }
   ],
   "source": [
    "model.summary()"
   ]
  },
  {
   "cell_type": "code",
   "execution_count": 13,
   "id": "0a96c7d0",
   "metadata": {},
   "outputs": [
    {
     "data": {
      "image/png": "[encoded data removed]",
      "text/plain": [
       "<Figure size 1000x500 with 2 Axes>"
      ]
     },
     "metadata": {},
     "output_type": "display_data"
    }
   ],
   "source": [
    "# 정확도와 로스 그래프\n",
    "his_dict = history.history\n",
    "loss = his_dict['loss']\n",
    "val_loss = his_dict['val_loss'] \n",
    "\n",
    "epochs = range(1, len(loss) + 1)\n",
    "fig = plt.figure(figsize = (10, 5))\n",
    "\n",
    "# 훈련 및 검증 손실 그리기\n",
    "ax1 = fig.add_subplot(1, 2, 1)\n",
    "ax1.plot(epochs, loss, color = 'blue', label = 'train_loss')\n",
    "ax1.plot(epochs, val_loss, color = 'orange', label = 'val_loss')\n",
    "ax1.set_title('train and val loss')\n",
    "ax1.set_xlabel('epochs')\n",
    "ax1.set_ylabel('loss')\n",
    "ax1.legend()\n",
    "\n",
    "acc = his_dict['accuracy']\n",
    "val_acc = his_dict['val_accuracy']\n",
    "\n",
    "# 훈련 및 검증 정확도 그리기\n",
    "ax2 = fig.add_subplot(1, 2, 2)\n",
    "ax2.plot(epochs, acc, color = 'blue', label = 'train_acc')\n",
    "ax2.plot(epochs, val_acc, color = 'orange', label = 'val_acc')\n",
    "ax2.set_title('train and val acc')\n",
    "ax2.set_xlabel('epochs')\n",
    "ax2.set_ylabel('acc')\n",
    "ax2.legend()\n",
    "\n",
    "plt.show()"
   ]
  },
  {
   "cell_type": "code",
   "execution_count": 14,
   "id": "c00dc11a",
   "metadata": {},
   "outputs": [
    {
     "ename": "TypeError",
     "evalue": "Unable to serialize [2.0896919 2.1128857 2.1081853] to JSON. Unrecognized type <class 'tensorflow.python.framework.ops.EagerTensor'>.",
     "output_type": "error",
     "traceback": [
      "\u001b[0;31m---------------------------------------------------------------------------\u001b[0m",
      "\u001b[0;31mTypeError\u001b[0m                                 Traceback (most recent call last)",
      "\u001b[0;32m/tmp/ipykernel_24667/3045863943.py\u001b[0m in \u001b[0;36m<module>\u001b[0;34m\u001b[0m\n\u001b[1;32m      1\u001b[0m \u001b[0;31m# 6. 모델 저장하기\u001b[0m\u001b[0;34m\u001b[0m\u001b[0;34m\u001b[0m\u001b[0;34m\u001b[0m\u001b[0m\n\u001b[1;32m      2\u001b[0m \u001b[0;32mfrom\u001b[0m \u001b[0mtensorflow\u001b[0m\u001b[0;34m.\u001b[0m\u001b[0mkeras\u001b[0m\u001b[0;34m.\u001b[0m\u001b[0mmodels\u001b[0m \u001b[0;32mimport\u001b[0m \u001b[0msave_model\u001b[0m\u001b[0;34m\u001b[0m\u001b[0;34m\u001b[0m\u001b[0m\n\u001b[0;32m----> 3\u001b[0;31m \u001b[0mmodel\u001b[0m\u001b[0;34m.\u001b[0m\u001b[0msave\u001b[0m\u001b[0;34m(\u001b[0m\u001b[0;34m'./EfficientNetB5_32_tuning07.h5'\u001b[0m\u001b[0;34m)\u001b[0m\u001b[0;34m\u001b[0m\u001b[0;34m\u001b[0m\u001b[0m\n\u001b[0m",
      "\u001b[0;32m/opt/conda/lib/python3.7/site-packages/keras/utils/traceback_utils.py\u001b[0m in \u001b[0;36merror_handler\u001b[0;34m(*args, **kwargs)\u001b[0m\n\u001b[1;32m     68\u001b[0m             \u001b[0;31m# To get the full stack trace, call:\u001b[0m\u001b[0;34m\u001b[0m\u001b[0;34m\u001b[0m\u001b[0;34m\u001b[0m\u001b[0m\n\u001b[1;32m     69\u001b[0m             \u001b[0;31m# `tf.debugging.disable_traceback_filtering()`\u001b[0m\u001b[0;34m\u001b[0m\u001b[0;34m\u001b[0m\u001b[0;34m\u001b[0m\u001b[0m\n\u001b[0;32m---> 70\u001b[0;31m             \u001b[0;32mraise\u001b[0m \u001b[0me\u001b[0m\u001b[0;34m.\u001b[0m\u001b[0mwith_traceback\u001b[0m\u001b[0;34m(\u001b[0m\u001b[0mfiltered_tb\u001b[0m\u001b[0;34m)\u001b[0m \u001b[0;32mfrom\u001b[0m \u001b[0;32mNone\u001b[0m\u001b[0;34m\u001b[0m\u001b[0;34m\u001b[0m\u001b[0m\n\u001b[0m\u001b[1;32m     71\u001b[0m         \u001b[0;32mfinally\u001b[0m\u001b[0;34m:\u001b[0m\u001b[0;34m\u001b[0m\u001b[0;34m\u001b[0m\u001b[0m\n\u001b[1;32m     72\u001b[0m             \u001b[0;32mdel\u001b[0m \u001b[0mfiltered_tb\u001b[0m\u001b[0;34m\u001b[0m\u001b[0;34m\u001b[0m\u001b[0m\n",
      "\u001b[0;32m/opt/conda/lib/python3.7/json/__init__.py\u001b[0m in \u001b[0;36mdumps\u001b[0;34m(obj, skipkeys, ensure_ascii, check_circular, allow_nan, cls, indent, separators, default, sort_keys, **kw)\u001b[0m\n\u001b[1;32m    236\u001b[0m         \u001b[0mcheck_circular\u001b[0m\u001b[0;34m=\u001b[0m\u001b[0mcheck_circular\u001b[0m\u001b[0;34m,\u001b[0m \u001b[0mallow_nan\u001b[0m\u001b[0;34m=\u001b[0m\u001b[0mallow_nan\u001b[0m\u001b[0;34m,\u001b[0m \u001b[0mindent\u001b[0m\u001b[0;34m=\u001b[0m\u001b[0mindent\u001b[0m\u001b[0;34m,\u001b[0m\u001b[0;34m\u001b[0m\u001b[0;34m\u001b[0m\u001b[0m\n\u001b[1;32m    237\u001b[0m         \u001b[0mseparators\u001b[0m\u001b[0;34m=\u001b[0m\u001b[0mseparators\u001b[0m\u001b[0;34m,\u001b[0m \u001b[0mdefault\u001b[0m\u001b[0;34m=\u001b[0m\u001b[0mdefault\u001b[0m\u001b[0;34m,\u001b[0m \u001b[0msort_keys\u001b[0m\u001b[0;34m=\u001b[0m\u001b[0msort_keys\u001b[0m\u001b[0;34m,\u001b[0m\u001b[0;34m\u001b[0m\u001b[0;34m\u001b[0m\u001b[0m\n\u001b[0;32m--> 238\u001b[0;31m         **kw).encode(obj)\n\u001b[0m\u001b[1;32m    239\u001b[0m \u001b[0;34m\u001b[0m\u001b[0m\n\u001b[1;32m    240\u001b[0m \u001b[0;34m\u001b[0m\u001b[0m\n",
      "\u001b[0;32m/opt/conda/lib/python3.7/json/encoder.py\u001b[0m in \u001b[0;36mencode\u001b[0;34m(self, o)\u001b[0m\n\u001b[1;32m    197\u001b[0m         \u001b[0;31m# exceptions aren't as detailed.  The list call should be roughly\u001b[0m\u001b[0;34m\u001b[0m\u001b[0;34m\u001b[0m\u001b[0;34m\u001b[0m\u001b[0m\n\u001b[1;32m    198\u001b[0m         \u001b[0;31m# equivalent to the PySequence_Fast that ''.join() would do.\u001b[0m\u001b[0;34m\u001b[0m\u001b[0;34m\u001b[0m\u001b[0;34m\u001b[0m\u001b[0m\n\u001b[0;32m--> 199\u001b[0;31m         \u001b[0mchunks\u001b[0m \u001b[0;34m=\u001b[0m \u001b[0mself\u001b[0m\u001b[0;34m.\u001b[0m\u001b[0miterencode\u001b[0m\u001b[0;34m(\u001b[0m\u001b[0mo\u001b[0m\u001b[0;34m,\u001b[0m \u001b[0m_one_shot\u001b[0m\u001b[0;34m=\u001b[0m\u001b[0;32mTrue\u001b[0m\u001b[0;34m)\u001b[0m\u001b[0;34m\u001b[0m\u001b[0;34m\u001b[0m\u001b[0m\n\u001b[0m\u001b[1;32m    200\u001b[0m         \u001b[0;32mif\u001b[0m \u001b[0;32mnot\u001b[0m \u001b[0misinstance\u001b[0m\u001b[0;34m(\u001b[0m\u001b[0mchunks\u001b[0m\u001b[0;34m,\u001b[0m \u001b[0;34m(\u001b[0m\u001b[0mlist\u001b[0m\u001b[0;34m,\u001b[0m \u001b[0mtuple\u001b[0m\u001b[0;34m)\u001b[0m\u001b[0;34m)\u001b[0m\u001b[0;34m:\u001b[0m\u001b[0;34m\u001b[0m\u001b[0;34m\u001b[0m\u001b[0m\n\u001b[1;32m    201\u001b[0m             \u001b[0mchunks\u001b[0m \u001b[0;34m=\u001b[0m \u001b[0mlist\u001b[0m\u001b[0;34m(\u001b[0m\u001b[0mchunks\u001b[0m\u001b[0;34m)\u001b[0m\u001b[0;34m\u001b[0m\u001b[0;34m\u001b[0m\u001b[0m\n",
      "\u001b[0;32m/opt/conda/lib/python3.7/json/encoder.py\u001b[0m in \u001b[0;36miterencode\u001b[0;34m(self, o, _one_shot)\u001b[0m\n\u001b[1;32m    255\u001b[0m                 \u001b[0mself\u001b[0m\u001b[0;34m.\u001b[0m\u001b[0mkey_separator\u001b[0m\u001b[0;34m,\u001b[0m \u001b[0mself\u001b[0m\u001b[0;34m.\u001b[0m\u001b[0mitem_separator\u001b[0m\u001b[0;34m,\u001b[0m \u001b[0mself\u001b[0m\u001b[0;34m.\u001b[0m\u001b[0msort_keys\u001b[0m\u001b[0;34m,\u001b[0m\u001b[0;34m\u001b[0m\u001b[0;34m\u001b[0m\u001b[0m\n\u001b[1;32m    256\u001b[0m                 self.skipkeys, _one_shot)\n\u001b[0;32m--> 257\u001b[0;31m         \u001b[0;32mreturn\u001b[0m \u001b[0m_iterencode\u001b[0m\u001b[0;34m(\u001b[0m\u001b[0mo\u001b[0m\u001b[0;34m,\u001b[0m \u001b[0;36m0\u001b[0m\u001b[0;34m)\u001b[0m\u001b[0;34m\u001b[0m\u001b[0;34m\u001b[0m\u001b[0m\n\u001b[0m\u001b[1;32m    258\u001b[0m \u001b[0;34m\u001b[0m\u001b[0m\n\u001b[1;32m    259\u001b[0m def _make_iterencode(markers, _default, _encoder, _indent, _floatstr,\n",
      "\u001b[0;31mTypeError\u001b[0m: Unable to serialize [2.0896919 2.1128857 2.1081853] to JSON. Unrecognized type <class 'tensorflow.python.framework.ops.EagerTensor'>."
     ]
    }
   ],
   "source": [
    "# 6. 모델 저장하기\n",
    "from tensorflow.keras.models import save_model\n",
    "model.save('./EfficientNetB5_32_tuning07.h5')"
   ]
  },
  {
   "cell_type": "code",
   "execution_count": null,
   "id": "b92874ca",
   "metadata": {},
   "outputs": [],
   "source": [
    "#정확도 f1\n",
    "from sklearn.metrics import *\n",
    "def get_clf_eval(y_test,pred): \n",
    "  f1 = f1_score(y_test,pred,average=\"macro\") \n",
    "  acc = accuracy_score(y_val,predict)   \n",
    "  loss = model.evaluate(x_val, y_val, batch_size=32)\n",
    "  print('정확도 :',acc)\n",
    "  print('f1 score:',f1)\n",
    "  print('loss :',loss )"
   ]
  },
  {
   "cell_type": "code",
   "execution_count": null,
   "id": "de8ad259",
   "metadata": {},
   "outputs": [],
   "source": [
    "predcit = model.predict(x_val)\n",
    "predict = []\n",
    "for i in np.arange(len(predcit)):\n",
    "  labels = np.argmax(predcit[i])\n",
    "  predict.append(labels)\n",
    "predict = np.array(predict)\n",
    "predict = np_utils.to_categorical(predict)"
   ]
  },
  {
   "cell_type": "code",
   "execution_count": null,
   "id": "b6e2dae7",
   "metadata": {},
   "outputs": [],
   "source": [
    "#EfficientNetB4\n",
    "get_clf_eval(y_val,predict)"
   ]
  }
 ],
 "metadata": {
  "kernelspec": {
   "display_name": "Python 3 (ipykernel)",
   "language": "python",
   "name": "python3"
  },
  "language_info": {
   "codemirror_mode": {
    "name": "ipython",
    "version": 3
   },
   "file_extension": ".py",
   "mimetype": "text/x-python",
   "name": "python",
   "nbconvert_exporter": "python",
   "pygments_lexer": "ipython3",
   "version": "3.7.12"
  }
 },
 "nbformat": 4,
 "nbformat_minor": 5
}
