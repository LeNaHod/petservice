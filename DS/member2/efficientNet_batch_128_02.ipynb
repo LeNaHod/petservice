{
 "cells": [
  {
   "cell_type": "code",
   "execution_count": 1,
   "id": "75fd8a42",
   "metadata": {},
   "outputs": [
    {
     "name": "stderr",
     "output_type": "stream",
     "text": [
      "2023-01-20 05:26:23.995683: I tensorflow/core/platform/cpu_feature_guard.cc:193] This TensorFlow binary is optimized with oneAPI Deep Neural Network Library (oneDNN) to use the following CPU instructions in performance-critical operations:  AVX2 AVX512F AVX512_VNNI FMA\n",
      "To enable them in other operations, rebuild TensorFlow with the appropriate compiler flags.\n",
      "2023-01-20 05:26:24.127434: I tensorflow/core/util/port.cc:104] oneDNN custom operations are on. You may see slightly different numerical results due to floating-point round-off errors from different computation orders. To turn them off, set the environment variable `TF_ENABLE_ONEDNN_OPTS=0`.\n",
      "2023-01-20 05:26:24.944373: W tensorflow/compiler/xla/stream_executor/platform/default/dso_loader.cc:64] Could not load dynamic library 'libnvinfer.so.7'; dlerror: libnvinfer.so.7: cannot open shared object file: No such file or directory; LD_LIBRARY_PATH: /usr/local/cuda/lib64:/usr/local/nccl2/lib:/usr/local/cuda/extras/CUPTI/lib64\n",
      "2023-01-20 05:26:24.944464: W tensorflow/compiler/xla/stream_executor/platform/default/dso_loader.cc:64] Could not load dynamic library 'libnvinfer_plugin.so.7'; dlerror: libnvinfer_plugin.so.7: cannot open shared object file: No such file or directory; LD_LIBRARY_PATH: /usr/local/cuda/lib64:/usr/local/nccl2/lib:/usr/local/cuda/extras/CUPTI/lib64\n",
      "2023-01-20 05:26:24.944474: W tensorflow/compiler/tf2tensorrt/utils/py_utils.cc:38] TF-TRT Warning: Cannot dlopen some TensorRT libraries. If you would like to use Nvidia GPU with TensorRT, please make sure the missing libraries mentioned above are installed properly.\n"
     ]
    }
   ],
   "source": [
    "import os\n",
    "import io\n",
    "from zipfile import ZipFile\n",
    "import pandas as pd\n",
    "import tensorflow as tf\n",
    "from PIL import Image\n",
    "import numpy as np\n",
    "import random\n",
    "import matplotlib.image as mpimg\n",
    "import matplotlib.pyplot as plt\n",
    "import cv2\n",
    "from sklearn.metrics import *\n",
    "import os\n",
    "import zipfile\n",
    "from keras.utils import np_utils\n",
    "from sklearn.model_selection import train_test_split\n",
    "from tensorflow.keras.preprocessing.image import ImageDataGenerator"
   ]
  },
  {
   "cell_type": "code",
   "execution_count": 2,
   "id": "3715d440",
   "metadata": {},
   "outputs": [],
   "source": [
    "#백내장 무 폴더 정리\n",
    "img_dir0 = './eyes_train/eye_train/0'\n",
    "img0 = os.listdir(img_dir0)\n",
    "image0 = list(filter(lambda x: x.find('.jpg') != -1 or x.find('.png') != -1, img0))\n",
    "label0 = list(filter(lambda x : x.find('.json')!=-1,img0))\n",
    "image_0 = []\n",
    "image_label0 = []\n",
    "for i in image0:\n",
    "    img = np.array(Image.open('./eyes_train/eye_train/0/{}'.format(i)))\n",
    "    im = img[50:350,50:350]\n",
    "    im0 = cv2.resize(im,(224,224))\n",
    "    image_0.append(im0)\n",
    "    image_label0.append(0)"
   ]
  },
  {
   "cell_type": "code",
   "execution_count": 3,
   "id": "3137b288",
   "metadata": {},
   "outputs": [],
   "source": [
    "#백내장 초기 폴더 정리\n",
    "img_dir1 = './eyes_train/eye_train/1'\n",
    "img1 = os.listdir(img_dir1)\n",
    "image1 = list(filter(lambda x: x.find('.jpg') != -1 or x.find('.png') != -1, img1))\n",
    "label1 = list(filter(lambda x : x.find('.json')!=-1,img1))\n",
    "for i in image1:\n",
    "    img = np.array(Image.open('./eyes_train/eye_train/1/{}'.format(i)))\n",
    "    im = img[50:350,50:350]\n",
    "    im1 = cv2.resize(im,(224,224))\n",
    "    image_0.append(im1)\n",
    "    image_label0.append(1)"
   ]
  },
  {
   "cell_type": "code",
   "execution_count": 4,
   "id": "96153994",
   "metadata": {},
   "outputs": [],
   "source": [
    "#백내장 비성숙 폴더 정리\n",
    "img_dir2 = './eyes_train/eye_train/2'\n",
    "img2 = os.listdir(img_dir2)\n",
    "image2 = list(filter(lambda x: x.find('.jpg') != -1 or x.find('.png') != -1, img2))\n",
    "label2 = list(filter(lambda x : x.find('.json')!=-1,img2))\n",
    "for i in image2:\n",
    "    img = np.array(Image.open('./eyes_train/eye_train/2/{}'.format(i)))\n",
    "    im = img[50:350,50:350]\n",
    "    im2 = cv2.resize(im,(224,224))\n",
    "    image_0.append(im2)\n",
    "    image_label0.append(2)"
   ]
  },
  {
   "cell_type": "code",
   "execution_count": 5,
   "id": "256e262c",
   "metadata": {},
   "outputs": [],
   "source": [
    "#백내장 성숙 폴더 정리\n",
    "img_dir3 = './eyes_train/eye_train/3'\n",
    "img3 = os.listdir(img_dir3)\n",
    "image3 = list(filter(lambda x: x.find('.jpg') != -1 or x.find('.png') != -1, img3))\n",
    "label3 = list(filter(lambda x : x.find('.json')!=-1,img3))\n",
    "for i in image3:\n",
    "    img = np.array(Image.open('./eyes_train/eye_train/3/{}'.format(i)))\n",
    "    im = img[50:350,50:350]\n",
    "    im3 = cv2.resize(im,(224,224))\n",
    "    image_0.append(im3)\n",
    "    image_label0.append(3)"
   ]
  },
  {
   "cell_type": "code",
   "execution_count": 6,
   "id": "e40d91b9",
   "metadata": {},
   "outputs": [],
   "source": [
    "x = np.array(image_0)\n",
    "y = np.array(image_label0)"
   ]
  },
  {
   "cell_type": "code",
   "execution_count": 7,
   "id": "ab789445",
   "metadata": {},
   "outputs": [],
   "source": [
    "#원핫 인코딩\n",
    "y = np_utils.to_categorical(y)"
   ]
  },
  {
   "cell_type": "code",
   "execution_count": 8,
   "id": "c9e748cf",
   "metadata": {},
   "outputs": [],
   "source": [
    "#데이터 분할\n",
    "x_train, x_val, y_train, y_val = train_test_split(x, y, shuffle =True, test_size = 0.2, random_state = 123)"
   ]
  },
  {
   "cell_type": "code",
   "execution_count": 9,
   "id": "e8fb2833",
   "metadata": {},
   "outputs": [
    {
     "name": "stderr",
     "output_type": "stream",
     "text": [
      "2023-01-20 05:27:21.037101: I tensorflow/core/platform/cpu_feature_guard.cc:193] This TensorFlow binary is optimized with oneAPI Deep Neural Network Library (oneDNN) to use the following CPU instructions in performance-critical operations:  AVX2 AVX512F AVX512_VNNI FMA\n",
      "To enable them in other operations, rebuild TensorFlow with the appropriate compiler flags.\n",
      "2023-01-20 05:27:21.669575: I tensorflow/core/common_runtime/gpu/gpu_device.cc:1613] Created device /job:localhost/replica:0/task:0/device:GPU:0 with 38220 MB memory:  -> device: 0, name: NVIDIA A100-SXM4-40GB, pci bus id: 0000:00:04.0, compute capability: 8.0\n"
     ]
    }
   ],
   "source": [
    "from tensorflow.keras.models import Sequential\n",
    "from tensorflow.keras.layers import Conv2D,MaxPool2D, Dense, Flatten, BatchNormalization, Activation\n",
    "from tensorflow.keras.optimizers import Adam, RMSprop\n",
    "from tensorflow.keras.applications.efficientnet import EfficientNetB4\n",
    "from tensorflow.nn import silu\n",
    "#EfficientNetB4불러오기\n",
    "Eff = EfficientNetB4(weights = 'imagenet', input_shape = (224,224,3), include_top = False, pooling = 'avg')"
   ]
  },
  {
   "cell_type": "code",
   "execution_count": 10,
   "id": "90c8ebb7",
   "metadata": {},
   "outputs": [
    {
     "name": "stdout",
     "output_type": "stream",
     "text": [
      "Epoch 1/30\n"
     ]
    },
    {
     "name": "stderr",
     "output_type": "stream",
     "text": [
      "2023-01-20 05:27:58.953755: E tensorflow/core/grappler/optimizers/meta_optimizer.cc:954] layout failed: INVALID_ARGUMENT: Size of values 0 does not match size of permutation 4 @ fanin shape insequential/efficientnetb4/block1b_drop/dropout/SelectV2-2-TransposeNHWCToNCHW-LayoutOptimizer\n",
      "2023-01-20 05:28:04.286650: I tensorflow/compiler/xla/stream_executor/cuda/cuda_dnn.cc:428] Loaded cuDNN version 8200\n",
      "2023-01-20 05:28:05.944747: I tensorflow/compiler/xla/stream_executor/cuda/cuda_blas.cc:630] TensorFloat-32 will be used for the matrix multiplication. This will only be logged once.\n",
      "2023-01-20 05:28:06.079484: I tensorflow/compiler/xla/service/service.cc:173] XLA service 0x7f2a9b45ac60 initialized for platform CUDA (this does not guarantee that XLA will be used). Devices:\n",
      "2023-01-20 05:28:06.079517: I tensorflow/compiler/xla/service/service.cc:181]   StreamExecutor device (0): NVIDIA A100-SXM4-40GB, Compute Capability 8.0\n",
      "2023-01-20 05:28:06.085298: I tensorflow/compiler/mlir/tensorflow/utils/dump_mlir_util.cc:268] disabling MLIR crash reproducer, set env var `MLIR_CRASH_REPRODUCER_DIRECTORY` to enable.\n",
      "2023-01-20 05:28:06.234334: I tensorflow/compiler/jit/xla_compilation_cache.cc:477] Compiled cluster using XLA!  This line is logged at most once for the lifetime of the process.\n"
     ]
    },
    {
     "name": "stdout",
     "output_type": "stream",
     "text": [
      "172/172 [==============================] - 170s 564ms/step - loss: 1.0425 - accuracy: 0.5312 - val_loss: 0.8334 - val_accuracy: 0.6612\n",
      "Epoch 2/30\n",
      "172/172 [==============================] - 93s 542ms/step - loss: 0.7212 - accuracy: 0.6815 - val_loss: 0.6501 - val_accuracy: 0.7169\n",
      "Epoch 3/30\n",
      "172/172 [==============================] - 93s 540ms/step - loss: 0.6072 - accuracy: 0.7426 - val_loss: 0.5863 - val_accuracy: 0.7413\n",
      "Epoch 4/30\n",
      "172/172 [==============================] - 92s 536ms/step - loss: 0.5391 - accuracy: 0.7758 - val_loss: 0.5424 - val_accuracy: 0.7673\n",
      "Epoch 5/30\n",
      "172/172 [==============================] - 93s 540ms/step - loss: 0.4825 - accuracy: 0.8053 - val_loss: 0.5120 - val_accuracy: 0.7800\n",
      "Epoch 6/30\n",
      "172/172 [==============================] - 93s 542ms/step - loss: 0.4308 - accuracy: 0.8309 - val_loss: 0.4872 - val_accuracy: 0.7932\n",
      "Epoch 7/30\n",
      "172/172 [==============================] - 93s 538ms/step - loss: 0.3914 - accuracy: 0.8493 - val_loss: 0.4644 - val_accuracy: 0.8052\n",
      "Epoch 8/30\n",
      "172/172 [==============================] - 92s 537ms/step - loss: 0.3493 - accuracy: 0.8698 - val_loss: 0.4448 - val_accuracy: 0.8161\n",
      "Epoch 9/30\n",
      "172/172 [==============================] - 93s 541ms/step - loss: 0.3069 - accuracy: 0.8875 - val_loss: 0.4318 - val_accuracy: 0.8243\n",
      "Epoch 10/30\n",
      "172/172 [==============================] - 93s 542ms/step - loss: 0.2742 - accuracy: 0.9030 - val_loss: 0.4135 - val_accuracy: 0.8334\n",
      "Epoch 11/30\n",
      "172/172 [==============================] - 93s 538ms/step - loss: 0.2449 - accuracy: 0.9156 - val_loss: 0.4015 - val_accuracy: 0.8388\n",
      "Epoch 12/30\n",
      "172/172 [==============================] - 93s 539ms/step - loss: 0.2122 - accuracy: 0.9279 - val_loss: 0.3925 - val_accuracy: 0.8427\n",
      "Epoch 13/30\n",
      "172/172 [==============================] - 93s 540ms/step - loss: 0.1862 - accuracy: 0.9405 - val_loss: 0.3838 - val_accuracy: 0.8468\n",
      "Epoch 14/30\n",
      "172/172 [==============================] - 92s 537ms/step - loss: 0.1649 - accuracy: 0.9499 - val_loss: 0.3741 - val_accuracy: 0.8519\n",
      "Epoch 15/30\n",
      "172/172 [==============================] - 93s 538ms/step - loss: 0.1439 - accuracy: 0.9573 - val_loss: 0.3720 - val_accuracy: 0.8532\n",
      "Epoch 16/30\n",
      "172/172 [==============================] - 93s 542ms/step - loss: 0.1232 - accuracy: 0.9653 - val_loss: 0.3677 - val_accuracy: 0.8566\n",
      "Epoch 17/30\n",
      "172/172 [==============================] - 93s 541ms/step - loss: 0.1077 - accuracy: 0.9693 - val_loss: 0.3680 - val_accuracy: 0.8608\n",
      "Epoch 18/30\n",
      "172/172 [==============================] - 92s 538ms/step - loss: 0.0946 - accuracy: 0.9747 - val_loss: 0.3643 - val_accuracy: 0.8623\n",
      "Epoch 19/30\n",
      "172/172 [==============================] - 92s 538ms/step - loss: 0.0851 - accuracy: 0.9763 - val_loss: 0.3609 - val_accuracy: 0.8652\n",
      "Epoch 20/30\n",
      "172/172 [==============================] - 94s 545ms/step - loss: 0.0723 - accuracy: 0.9813 - val_loss: 0.3645 - val_accuracy: 0.8663\n",
      "Epoch 21/30\n",
      "172/172 [==============================] - 93s 540ms/step - loss: 0.0660 - accuracy: 0.9825 - val_loss: 0.3570 - val_accuracy: 0.8705\n",
      "Epoch 22/30\n",
      "172/172 [==============================] - 93s 541ms/step - loss: 0.0598 - accuracy: 0.9844 - val_loss: 0.3571 - val_accuracy: 0.8714\n",
      "Epoch 23/30\n",
      "172/172 [==============================] - 93s 539ms/step - loss: 0.0556 - accuracy: 0.9844 - val_loss: 0.3548 - val_accuracy: 0.8743\n",
      "Epoch 24/30\n",
      "172/172 [==============================] - 92s 538ms/step - loss: 0.0449 - accuracy: 0.9891 - val_loss: 0.3599 - val_accuracy: 0.8765\n",
      "Epoch 25/30\n",
      "172/172 [==============================] - 93s 539ms/step - loss: 0.0452 - accuracy: 0.9877 - val_loss: 0.3610 - val_accuracy: 0.8785\n",
      "Epoch 26/30\n",
      "172/172 [==============================] - 93s 540ms/step - loss: 0.0388 - accuracy: 0.9905 - val_loss: 0.3607 - val_accuracy: 0.8806\n",
      "Epoch 27/30\n",
      "172/172 [==============================] - 93s 540ms/step - loss: 0.0365 - accuracy: 0.9901 - val_loss: 0.3666 - val_accuracy: 0.8797\n",
      "Epoch 28/30\n",
      "172/172 [==============================] - 93s 540ms/step - loss: 0.0327 - accuracy: 0.9920 - val_loss: 0.3626 - val_accuracy: 0.8815\n",
      "Epoch 29/30\n",
      "172/172 [==============================] - 92s 536ms/step - loss: 0.0321 - accuracy: 0.9916 - val_loss: 0.3609 - val_accuracy: 0.8850\n",
      "Epoch 30/30\n",
      "172/172 [==============================] - 93s 540ms/step - loss: 0.0288 - accuracy: 0.9930 - val_loss: 0.3603 - val_accuracy: 0.8874\n"
     ]
    }
   ],
   "source": [
    "model = Sequential()\n",
    "#분류기 직접 정리\n",
    "model.add(Eff)\n",
    "model.add(Dense(512))\n",
    "model.add(BatchNormalization())\n",
    "model.add(Activation('silu'))\n",
    "model.add(Dense(4,activation = 'softmax'))\n",
    "model.compile(optimizer=Adam(1e-5), # 옵티마이저 : rmsprop\n",
    "              loss = 'categorical_crossentropy', # 손실 함수 : sparse_categorical_crossentropy\n",
    "              metrics = ['accuracy']) # 모니터링 할 평가지표 : \n",
    "history = model.fit(x_train, y_train, \n",
    "                      epochs = 30, \n",
    "                      batch_size = 128, \n",
    "                      validation_data = (x_val, y_val))"
   ]
  },
  {
   "cell_type": "code",
   "execution_count": 11,
   "id": "5bfc455d",
   "metadata": {},
   "outputs": [
    {
     "name": "stdout",
     "output_type": "stream",
     "text": [
      "Model: \"sequential\"\n",
      "_________________________________________________________________\n",
      " Layer (type)                Output Shape              Param #   \n",
      "=================================================================\n",
      " efficientnetb4 (Functional)  (None, 1792)             17673823  \n",
      "                                                                 \n",
      " dense (Dense)               (None, 512)               918016    \n",
      "                                                                 \n",
      " batch_normalization (BatchN  (None, 512)              2048      \n",
      " ormalization)                                                   \n",
      "                                                                 \n",
      " activation (Activation)     (None, 512)               0         \n",
      "                                                                 \n",
      " dense_1 (Dense)             (None, 4)                 2052      \n",
      "                                                                 \n",
      "=================================================================\n",
      "Total params: 18,595,939\n",
      "Trainable params: 18,469,708\n",
      "Non-trainable params: 126,231\n",
      "_________________________________________________________________\n"
     ]
    }
   ],
   "source": [
    "model.summary()"
   ]
  },
  {
   "cell_type": "code",
   "execution_count": 12,
   "id": "c53923bf",
   "metadata": {},
   "outputs": [
    {
     "data": {
      "image/png": "[encoded data removed]",
      "text/plain": [
       "<Figure size 1000x500 with 2 Axes>"
      ]
     },
     "metadata": {},
     "output_type": "display_data"
    }
   ],
   "source": [
    "# 정확도와 로스 그래프\n",
    "his_dict = history.history\n",
    "loss = his_dict['loss']\n",
    "val_loss = his_dict['val_loss'] \n",
    "\n",
    "epochs = range(1, len(loss) + 1)\n",
    "fig = plt.figure(figsize = (10, 5))\n",
    "\n",
    "# 훈련 및 검증 손실 그리기\n",
    "ax1 = fig.add_subplot(1, 2, 1)\n",
    "ax1.plot(epochs, loss, color = 'blue', label = 'train_loss')\n",
    "ax1.plot(epochs, val_loss, color = 'orange', label = 'val_loss')\n",
    "ax1.set_title('train and val loss')\n",
    "ax1.set_xlabel('epochs')\n",
    "ax1.set_ylabel('loss')\n",
    "ax1.legend()\n",
    "\n",
    "acc = his_dict['accuracy']\n",
    "val_acc = his_dict['val_accuracy']\n",
    "\n",
    "# 훈련 및 검증 정확도 그리기\n",
    "ax2 = fig.add_subplot(1, 2, 2)\n",
    "ax2.plot(epochs, acc, color = 'blue', label = 'train_acc')\n",
    "ax2.plot(epochs, val_acc, color = 'orange', label = 'val_acc')\n",
    "ax2.set_title('train and val acc')\n",
    "ax2.set_xlabel('epochs')\n",
    "ax2.set_ylabel('acc')\n",
    "ax2.legend()\n",
    "\n",
    "plt.show()"
   ]
  },
  {
   "cell_type": "code",
   "execution_count": 2,
   "id": "6e0cc83d",
   "metadata": {},
   "outputs": [
    {
     "ename": "NameError",
     "evalue": "name 'model' is not defined",
     "output_type": "error",
     "traceback": [
      "\u001b[0;31m---------------------------------------------------------------------------\u001b[0m",
      "\u001b[0;31mNameError\u001b[0m                                 Traceback (most recent call last)",
      "\u001b[0;32m/tmp/ipykernel_25571/3223153524.py\u001b[0m in \u001b[0;36m<module>\u001b[0;34m\u001b[0m\n\u001b[1;32m      2\u001b[0m \u001b[0;32mfrom\u001b[0m \u001b[0mtensorflow\u001b[0m\u001b[0;34m.\u001b[0m\u001b[0mkeras\u001b[0m\u001b[0;34m.\u001b[0m\u001b[0mmodels\u001b[0m \u001b[0;32mimport\u001b[0m \u001b[0mload_model\u001b[0m\u001b[0;34m\u001b[0m\u001b[0;34m\u001b[0m\u001b[0m\n\u001b[1;32m      3\u001b[0m \u001b[0;32mfrom\u001b[0m \u001b[0mtensorflow\u001b[0m\u001b[0;34m.\u001b[0m\u001b[0mkeras\u001b[0m\u001b[0;34m.\u001b[0m\u001b[0mmodels\u001b[0m \u001b[0;32mimport\u001b[0m \u001b[0msave_model\u001b[0m\u001b[0;34m\u001b[0m\u001b[0;34m\u001b[0m\u001b[0m\n\u001b[0;32m----> 4\u001b[0;31m \u001b[0mmodel\u001b[0m\u001b[0;34m.\u001b[0m\u001b[0msave\u001b[0m\u001b[0;34m(\u001b[0m\u001b[0;34m'weight.h5'\u001b[0m\u001b[0;34m)\u001b[0m\u001b[0;34m\u001b[0m\u001b[0;34m\u001b[0m\u001b[0m\n\u001b[0m\u001b[1;32m      5\u001b[0m \u001b[0;31m#model.save('./EfficientNetB4_128_tuning02')\u001b[0m\u001b[0;34m\u001b[0m\u001b[0;34m\u001b[0m\u001b[0;34m\u001b[0m\u001b[0m\n\u001b[1;32m      6\u001b[0m \u001b[0;31m#save_model(model,\"EfficientNetB4_128_tuning02.h5\")\u001b[0m\u001b[0;34m\u001b[0m\u001b[0;34m\u001b[0m\u001b[0;34m\u001b[0m\u001b[0m\n",
      "\u001b[0;31mNameError\u001b[0m: name 'model' is not defined"
     ]
    }
   ],
   "source": [
    "# 6. 모델 저장하기\n",
    "from tensorflow.keras.models import load_model\n",
    "from tensorflow.keras.models import save_model\n",
    "model.save('weight.h5')\n",
    "#model.save('./EfficientNetB4_128_tuning02')\n",
    "#save_model(model,\"EfficientNetB4_128_tuning02.h5\")"
   ]
  },
  {
   "cell_type": "code",
   "execution_count": 14,
   "id": "1823c7b5",
   "metadata": {},
   "outputs": [],
   "source": [
    "#정확도 f1\n",
    "from sklearn.metrics import *\n",
    "def get_clf_eval(y_test,pred): \n",
    "  f1 = f1_score(y_test,pred,average=\"macro\") \n",
    "  acc = accuracy_score(y_val,predict)   \n",
    "  loss = model.evaluate(x_val, y_val, batch_size=128)\n",
    "  print('정확도 :',acc)\n",
    "  print('f1 score:',f1)\n",
    "  print('loss :',loss )"
   ]
  },
  {
   "cell_type": "code",
   "execution_count": 15,
   "id": "93af5aa4",
   "metadata": {},
   "outputs": [
    {
     "name": "stdout",
     "output_type": "stream",
     "text": [
      "172/172 [==============================] - 8s 30ms/step\n"
     ]
    }
   ],
   "source": [
    "predcit = model.predict(x_val)\n",
    "predict = []\n",
    "for i in np.arange(len(predcit)):\n",
    "  labels = np.argmax(predcit[i])\n",
    "  predict.append(labels)\n",
    "predict = np.array(predict)\n",
    "predict = np_utils.to_categorical(predict)"
   ]
  },
  {
   "cell_type": "code",
   "execution_count": 16,
   "id": "2db68eb2",
   "metadata": {},
   "outputs": [
    {
     "name": "stdout",
     "output_type": "stream",
     "text": [
      "43/43 [==============================] - 4s 103ms/step - loss: 0.3603 - accuracy: 0.8874\n",
      "정확도 : 0.8869912790697675\n",
      "f1 score: 0.8858495056251814\n",
      "loss : [0.36032596230506897, 0.8873546719551086]\n"
     ]
    }
   ],
   "source": [
    "#EfficientNetB4\n",
    "get_clf_eval(y_val,predict)"
   ]
  },
  {
   "cell_type": "code",
   "execution_count": null,
   "id": "38dd2bd9",
   "metadata": {},
   "outputs": [],
   "source": []
  }
 ],
 "metadata": {
  "kernelspec": {
   "display_name": "Python 3 (ipykernel)",
   "language": "python",
   "name": "python3"
  },
  "language_info": {
   "codemirror_mode": {
    "name": "ipython",
    "version": 3
   },
   "file_extension": ".py",
   "mimetype": "text/x-python",
   "name": "python",
   "nbconvert_exporter": "python",
   "pygments_lexer": "ipython3",
   "version": "3.7.12"
  }
 },
 "nbformat": 4,
 "nbformat_minor": 5
}
