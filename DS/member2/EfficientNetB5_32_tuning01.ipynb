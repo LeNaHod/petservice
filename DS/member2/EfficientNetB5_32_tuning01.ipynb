{
 "cells": [
  {
   "cell_type": "markdown",
   "id": "803fdc26",
   "metadata": {},
   "source": [
    "Adam(1e-4),Dense512"
   ]
  },
  {
   "cell_type": "code",
   "execution_count": 1,
   "id": "bf98f605",
   "metadata": {},
   "outputs": [
    {
     "name": "stderr",
     "output_type": "stream",
     "text": [
      "2023-01-19 08:10:04.799618: I tensorflow/core/platform/cpu_feature_guard.cc:193] This TensorFlow binary is optimized with oneAPI Deep Neural Network Library (oneDNN) to use the following CPU instructions in performance-critical operations:  AVX2 AVX512F AVX512_VNNI FMA\n",
      "To enable them in other operations, rebuild TensorFlow with the appropriate compiler flags.\n",
      "2023-01-19 08:10:04.931647: I tensorflow/core/util/port.cc:104] oneDNN custom operations are on. You may see slightly different numerical results due to floating-point round-off errors from different computation orders. To turn them off, set the environment variable `TF_ENABLE_ONEDNN_OPTS=0`.\n",
      "2023-01-19 08:10:05.739794: W tensorflow/compiler/xla/stream_executor/platform/default/dso_loader.cc:64] Could not load dynamic library 'libnvinfer.so.7'; dlerror: libnvinfer.so.7: cannot open shared object file: No such file or directory; LD_LIBRARY_PATH: /usr/local/cuda/lib64:/usr/local/nccl2/lib:/usr/local/cuda/extras/CUPTI/lib64\n",
      "2023-01-19 08:10:05.739888: W tensorflow/compiler/xla/stream_executor/platform/default/dso_loader.cc:64] Could not load dynamic library 'libnvinfer_plugin.so.7'; dlerror: libnvinfer_plugin.so.7: cannot open shared object file: No such file or directory; LD_LIBRARY_PATH: /usr/local/cuda/lib64:/usr/local/nccl2/lib:/usr/local/cuda/extras/CUPTI/lib64\n",
      "2023-01-19 08:10:05.739898: W tensorflow/compiler/tf2tensorrt/utils/py_utils.cc:38] TF-TRT Warning: Cannot dlopen some TensorRT libraries. If you would like to use Nvidia GPU with TensorRT, please make sure the missing libraries mentioned above are installed properly.\n"
     ]
    }
   ],
   "source": [
    "import os\n",
    "import io\n",
    "from zipfile import ZipFile\n",
    "import pandas as pd\n",
    "import tensorflow as tf\n",
    "from PIL import Image\n",
    "import numpy as np\n",
    "import random\n",
    "import matplotlib.image as mpimg\n",
    "import matplotlib.pyplot as plt\n",
    "import cv2\n",
    "from sklearn.metrics import *\n",
    "import os\n",
    "import zipfile\n",
    "from keras.utils import np_utils\n",
    "from sklearn.model_selection import train_test_split\n",
    "from tensorflow.keras.preprocessing.image import ImageDataGenerator"
   ]
  },
  {
   "cell_type": "code",
   "execution_count": 2,
   "id": "700e78ba",
   "metadata": {},
   "outputs": [],
   "source": [
    "#백내장 무 폴더 정리\n",
    "img_dir0 = './eyes_train/eye_train/0'\n",
    "img0 = os.listdir(img_dir0)\n",
    "image0 = list(filter(lambda x: x.find('.jpg') != -1 or x.find('.png') != -1, img0))\n",
    "label0 = list(filter(lambda x : x.find('.json')!=-1,img0))\n",
    "image_0 = []\n",
    "image_label0 = []\n",
    "for i in image0:\n",
    "    img = np.array(Image.open('./eyes_train/eye_train/0/{}'.format(i)))\n",
    "    im = img[50:350,50:350]\n",
    "    im0 = cv2.resize(im,(224,224))\n",
    "    image_0.append(im0)\n",
    "    image_label0.append(0)"
   ]
  },
  {
   "cell_type": "code",
   "execution_count": 3,
   "id": "f650fc38",
   "metadata": {},
   "outputs": [],
   "source": [
    "#백내장 초기 폴더 정리\n",
    "img_dir1 = './eyes_train/eye_train/1'\n",
    "img1 = os.listdir(img_dir1)\n",
    "image1 = list(filter(lambda x: x.find('.jpg') != -1 or x.find('.png') != -1, img1))\n",
    "label1 = list(filter(lambda x : x.find('.json')!=-1,img1))\n",
    "for i in image1:\n",
    "    img = np.array(Image.open('./eyes_train/eye_train/1/{}'.format(i)))\n",
    "    im = img[50:350,50:350]\n",
    "    im1 = cv2.resize(im,(224,224))\n",
    "    image_0.append(im1)\n",
    "    image_label0.append(1)"
   ]
  },
  {
   "cell_type": "code",
   "execution_count": 4,
   "id": "549437d0",
   "metadata": {},
   "outputs": [],
   "source": [
    "#백내장 비성숙 폴더 정리\n",
    "img_dir2 = './eyes_train/eye_train/2'\n",
    "img2 = os.listdir(img_dir2)\n",
    "image2 = list(filter(lambda x: x.find('.jpg') != -1 or x.find('.png') != -1, img2))\n",
    "label2 = list(filter(lambda x : x.find('.json')!=-1,img2))\n",
    "for i in image2:\n",
    "    img = np.array(Image.open('./eyes_train/eye_train/2/{}'.format(i)))\n",
    "    im = img[50:350,50:350]\n",
    "    im2 = cv2.resize(im,(224,224))\n",
    "    image_0.append(im2)\n",
    "    image_label0.append(2)"
   ]
  },
  {
   "cell_type": "code",
   "execution_count": 5,
   "id": "ddb03655",
   "metadata": {},
   "outputs": [],
   "source": [
    "#백내장 성숙 폴더 정리\n",
    "img_dir3 = './eyes_train/eye_train/3'\n",
    "img3 = os.listdir(img_dir3)\n",
    "image3 = list(filter(lambda x: x.find('.jpg') != -1 or x.find('.png') != -1, img3))\n",
    "label3 = list(filter(lambda x : x.find('.json')!=-1,img3))\n",
    "for i in image3:\n",
    "    img = np.array(Image.open('./eyes_train/eye_train/3/{}'.format(i)))\n",
    "    im = img[50:350,50:350]\n",
    "    im3 = cv2.resize(im,(224,224))\n",
    "    image_0.append(im3)\n",
    "    image_label0.append(3)"
   ]
  },
  {
   "cell_type": "code",
   "execution_count": 6,
   "id": "4db0332f",
   "metadata": {},
   "outputs": [],
   "source": [
    "x = np.array(image_0)\n",
    "y = np.array(image_label0)"
   ]
  },
  {
   "cell_type": "code",
   "execution_count": 7,
   "id": "5a16738d",
   "metadata": {},
   "outputs": [],
   "source": [
    "#원핫 인코딩\n",
    "y = np_utils.to_categorical(y)"
   ]
  },
  {
   "cell_type": "code",
   "execution_count": 8,
   "id": "b1f93ec2",
   "metadata": {},
   "outputs": [],
   "source": [
    "#데이터 분할\n",
    "x_train, x_val, y_train, y_val = train_test_split(x, y, shuffle =True, test_size = 0.2, random_state = 123)"
   ]
  },
  {
   "cell_type": "code",
   "execution_count": 9,
   "id": "6bad89c2",
   "metadata": {},
   "outputs": [
    {
     "name": "stderr",
     "output_type": "stream",
     "text": [
      "2023-01-19 08:11:01.268285: I tensorflow/core/platform/cpu_feature_guard.cc:193] This TensorFlow binary is optimized with oneAPI Deep Neural Network Library (oneDNN) to use the following CPU instructions in performance-critical operations:  AVX2 AVX512F AVX512_VNNI FMA\n",
      "To enable them in other operations, rebuild TensorFlow with the appropriate compiler flags.\n",
      "2023-01-19 08:11:01.896096: I tensorflow/core/common_runtime/gpu/gpu_device.cc:1613] Created device /job:localhost/replica:0/task:0/device:GPU:0 with 38220 MB memory:  -> device: 0, name: NVIDIA A100-SXM4-40GB, pci bus id: 0000:00:04.0, compute capability: 8.0\n"
     ]
    },
    {
     "name": "stdout",
     "output_type": "stream",
     "text": [
      "Downloading data from https://storage.googleapis.com/keras-applications/efficientnetb5_notop.h5\n",
      "115263384/115263384 [==============================] - 4s 0us/step\n"
     ]
    }
   ],
   "source": [
    "from tensorflow.keras.models import Sequential\n",
    "from tensorflow.keras.layers import Conv2D,MaxPool2D, Dense, Flatten, BatchNormalization, Activation\n",
    "from tensorflow.keras.optimizers import Adam, RMSprop\n",
    "from tensorflow.keras.applications.efficientnet import EfficientNetB5\n",
    "from tensorflow.nn import silu\n",
    "#EfficientNetB5불러오기\n",
    "Eff = EfficientNetB5(weights = 'imagenet', input_shape = (224,224,3), include_top = False, pooling = 'avg')"
   ]
  },
  {
   "cell_type": "code",
   "execution_count": 11,
   "id": "877a389f",
   "metadata": {},
   "outputs": [
    {
     "name": "stdout",
     "output_type": "stream",
     "text": [
      "Epoch 1/10\n"
     ]
    },
    {
     "name": "stderr",
     "output_type": "stream",
     "text": [
      "2023-01-19 08:13:38.299924: E tensorflow/core/grappler/optimizers/meta_optimizer.cc:954] layout failed: INVALID_ARGUMENT: Size of values 0 does not match size of permutation 4 @ fanin shape insequential_1/efficientnetb5/block1b_drop/dropout/SelectV2-2-TransposeNHWCToNCHW-LayoutOptimizer\n"
     ]
    },
    {
     "name": "stdout",
     "output_type": "stream",
     "text": [
      "688/688 [==============================] - 224s 208ms/step - loss: 0.5700 - accuracy: 0.7556 - val_loss: 0.3854 - val_accuracy: 0.8385\n",
      "Epoch 2/10\n",
      "688/688 [==============================] - 139s 202ms/step - loss: 0.2892 - accuracy: 0.8881 - val_loss: 0.3272 - val_accuracy: 0.8710\n",
      "Epoch 3/10\n",
      "688/688 [==============================] - 139s 202ms/step - loss: 0.1404 - accuracy: 0.9501 - val_loss: 0.2899 - val_accuracy: 0.8970\n",
      "Epoch 4/10\n",
      "688/688 [==============================] - 138s 201ms/step - loss: 0.0864 - accuracy: 0.9692 - val_loss: 0.3074 - val_accuracy: 0.9019\n",
      "Epoch 5/10\n",
      "688/688 [==============================] - 139s 202ms/step - loss: 0.0639 - accuracy: 0.9772 - val_loss: 0.3470 - val_accuracy: 0.8990\n",
      "Epoch 6/10\n",
      "688/688 [==============================] - 139s 202ms/step - loss: 0.0551 - accuracy: 0.9811 - val_loss: 0.2802 - val_accuracy: 0.9188\n",
      "Epoch 7/10\n",
      "688/688 [==============================] - 139s 202ms/step - loss: 0.0469 - accuracy: 0.9839 - val_loss: 0.3078 - val_accuracy: 0.9084\n",
      "Epoch 8/10\n",
      "688/688 [==============================] - 139s 201ms/step - loss: 0.0411 - accuracy: 0.9863 - val_loss: 0.3165 - val_accuracy: 0.9157\n",
      "Epoch 9/10\n",
      "688/688 [==============================] - 139s 201ms/step - loss: 0.0371 - accuracy: 0.9878 - val_loss: 0.2799 - val_accuracy: 0.9222\n",
      "Epoch 10/10\n",
      "688/688 [==============================] - 139s 202ms/step - loss: 0.0340 - accuracy: 0.9878 - val_loss: 0.3431 - val_accuracy: 0.9139\n"
     ]
    }
   ],
   "source": [
    "model = Sequential()\n",
    "#분류기 직접 정리\n",
    "model.add(Eff)\n",
    "model.add(Dense(512))\n",
    "model.add(BatchNormalization())\n",
    "model.add(Activation('silu'))\n",
    "model.add(Dense(4,activation = 'softmax'))\n",
    "model.compile(optimizer=Adam(1e-4), # 옵티마이저 : rmsprop\n",
    "              loss = 'categorical_crossentropy', # 손실 함수 : sparse_categorical_crossentropy\n",
    "              metrics = ['accuracy']) # 모니터링 할 평가지표 : \n",
    "history = model.fit(x_train, y_train, \n",
    "                      epochs = 10, \n",
    "                      batch_size = 32, \n",
    "                      validation_data = (x_val, y_val))"
   ]
  },
  {
   "cell_type": "code",
   "execution_count": 12,
   "id": "f297065f",
   "metadata": {},
   "outputs": [
    {
     "name": "stdout",
     "output_type": "stream",
     "text": [
      "Model: \"sequential_1\"\n",
      "_________________________________________________________________\n",
      " Layer (type)                Output Shape              Param #   \n",
      "=================================================================\n",
      " efficientnetb5 (Functional)  (None, 2048)             28513527  \n",
      "                                                                 \n",
      " dense_2 (Dense)             (None, 512)               1049088   \n",
      "                                                                 \n",
      " batch_normalization_1 (Batc  (None, 512)              2048      \n",
      " hNormalization)                                                 \n",
      "                                                                 \n",
      " activation_1 (Activation)   (None, 512)               0         \n",
      "                                                                 \n",
      " dense_3 (Dense)             (None, 4)                 2052      \n",
      "                                                                 \n",
      "=================================================================\n",
      "Total params: 29,566,715\n",
      "Trainable params: 29,392,948\n",
      "Non-trainable params: 173,767\n",
      "_________________________________________________________________\n"
     ]
    }
   ],
   "source": [
    "model.summary()"
   ]
  },
  {
   "cell_type": "code",
   "execution_count": 13,
   "id": "0a96c7d0",
   "metadata": {},
   "outputs": [
    {
     "data": {
      "image/png": "[encoded data removed]",
      "text/plain": [
       "<Figure size 1000x500 with 2 Axes>"
      ]
     },
     "metadata": {},
     "output_type": "display_data"
    }
   ],
   "source": [
    "# 정확도와 로스 그래프\n",
    "his_dict = history.history\n",
    "loss = his_dict['loss']\n",
    "val_loss = his_dict['val_loss'] \n",
    "\n",
    "epochs = range(1, len(loss) + 1)\n",
    "fig = plt.figure(figsize = (10, 5))\n",
    "\n",
    "# 훈련 및 검증 손실 그리기\n",
    "ax1 = fig.add_subplot(1, 2, 1)\n",
    "ax1.plot(epochs, loss, color = 'blue', label = 'train_loss')\n",
    "ax1.plot(epochs, val_loss, color = 'orange', label = 'val_loss')\n",
    "ax1.set_title('train and val loss')\n",
    "ax1.set_xlabel('epochs')\n",
    "ax1.set_ylabel('loss')\n",
    "ax1.legend()\n",
    "\n",
    "acc = his_dict['accuracy']\n",
    "val_acc = his_dict['val_accuracy']\n",
    "\n",
    "# 훈련 및 검증 정확도 그리기\n",
    "ax2 = fig.add_subplot(1, 2, 2)\n",
    "ax2.plot(epochs, acc, color = 'blue', label = 'train_acc')\n",
    "ax2.plot(epochs, val_acc, color = 'orange', label = 'val_acc')\n",
    "ax2.set_title('train and val acc')\n",
    "ax2.set_xlabel('epochs')\n",
    "ax2.set_ylabel('acc')\n",
    "ax2.legend()\n",
    "\n",
    "plt.show()"
   ]
  },
  {
   "cell_type": "code",
   "execution_count": 14,
   "id": "c00dc11a",
   "metadata": {},
   "outputs": [
    {
     "ename": "TypeError",
     "evalue": "Unable to serialize [2.0896919 2.1128857 2.1081853] to JSON. Unrecognized type <class 'tensorflow.python.framework.ops.EagerTensor'>.",
     "output_type": "error",
     "traceback": [
      "\u001b[0;31m---------------------------------------------------------------------------\u001b[0m",
      "\u001b[0;31mTypeError\u001b[0m                                 Traceback (most recent call last)",
      "\u001b[0;32m/tmp/ipykernel_583/1906603998.py\u001b[0m in \u001b[0;36m<module>\u001b[0;34m\u001b[0m\n\u001b[1;32m      1\u001b[0m \u001b[0;31m# 6. 모델 저장하기\u001b[0m\u001b[0;34m\u001b[0m\u001b[0;34m\u001b[0m\u001b[0;34m\u001b[0m\u001b[0m\n\u001b[1;32m      2\u001b[0m \u001b[0;32mfrom\u001b[0m \u001b[0mtensorflow\u001b[0m\u001b[0;34m.\u001b[0m\u001b[0mkeras\u001b[0m\u001b[0;34m.\u001b[0m\u001b[0mmodels\u001b[0m \u001b[0;32mimport\u001b[0m \u001b[0mload_model\u001b[0m\u001b[0;34m\u001b[0m\u001b[0;34m\u001b[0m\u001b[0m\n\u001b[0;32m----> 3\u001b[0;31m \u001b[0mmodel\u001b[0m\u001b[0;34m.\u001b[0m\u001b[0msave\u001b[0m\u001b[0;34m(\u001b[0m\u001b[0;34m'./EfficientNetB5_32_tuning01.h5'\u001b[0m\u001b[0;34m)\u001b[0m\u001b[0;34m\u001b[0m\u001b[0;34m\u001b[0m\u001b[0m\n\u001b[0m",
      "\u001b[0;32m/opt/conda/lib/python3.7/site-packages/keras/utils/traceback_utils.py\u001b[0m in \u001b[0;36merror_handler\u001b[0;34m(*args, **kwargs)\u001b[0m\n\u001b[1;32m     68\u001b[0m             \u001b[0;31m# To get the full stack trace, call:\u001b[0m\u001b[0;34m\u001b[0m\u001b[0;34m\u001b[0m\u001b[0;34m\u001b[0m\u001b[0m\n\u001b[1;32m     69\u001b[0m             \u001b[0;31m# `tf.debugging.disable_traceback_filtering()`\u001b[0m\u001b[0;34m\u001b[0m\u001b[0;34m\u001b[0m\u001b[0;34m\u001b[0m\u001b[0m\n\u001b[0;32m---> 70\u001b[0;31m             \u001b[0;32mraise\u001b[0m \u001b[0me\u001b[0m\u001b[0;34m.\u001b[0m\u001b[0mwith_traceback\u001b[0m\u001b[0;34m(\u001b[0m\u001b[0mfiltered_tb\u001b[0m\u001b[0;34m)\u001b[0m \u001b[0;32mfrom\u001b[0m \u001b[0;32mNone\u001b[0m\u001b[0;34m\u001b[0m\u001b[0;34m\u001b[0m\u001b[0m\n\u001b[0m\u001b[1;32m     71\u001b[0m         \u001b[0;32mfinally\u001b[0m\u001b[0;34m:\u001b[0m\u001b[0;34m\u001b[0m\u001b[0;34m\u001b[0m\u001b[0m\n\u001b[1;32m     72\u001b[0m             \u001b[0;32mdel\u001b[0m \u001b[0mfiltered_tb\u001b[0m\u001b[0;34m\u001b[0m\u001b[0;34m\u001b[0m\u001b[0m\n",
      "\u001b[0;32m/opt/conda/lib/python3.7/json/__init__.py\u001b[0m in \u001b[0;36mdumps\u001b[0;34m(obj, skipkeys, ensure_ascii, check_circular, allow_nan, cls, indent, separators, default, sort_keys, **kw)\u001b[0m\n\u001b[1;32m    236\u001b[0m         \u001b[0mcheck_circular\u001b[0m\u001b[0;34m=\u001b[0m\u001b[0mcheck_circular\u001b[0m\u001b[0;34m,\u001b[0m \u001b[0mallow_nan\u001b[0m\u001b[0;34m=\u001b[0m\u001b[0mallow_nan\u001b[0m\u001b[0;34m,\u001b[0m \u001b[0mindent\u001b[0m\u001b[0;34m=\u001b[0m\u001b[0mindent\u001b[0m\u001b[0;34m,\u001b[0m\u001b[0;34m\u001b[0m\u001b[0;34m\u001b[0m\u001b[0m\n\u001b[1;32m    237\u001b[0m         \u001b[0mseparators\u001b[0m\u001b[0;34m=\u001b[0m\u001b[0mseparators\u001b[0m\u001b[0;34m,\u001b[0m \u001b[0mdefault\u001b[0m\u001b[0;34m=\u001b[0m\u001b[0mdefault\u001b[0m\u001b[0;34m,\u001b[0m \u001b[0msort_keys\u001b[0m\u001b[0;34m=\u001b[0m\u001b[0msort_keys\u001b[0m\u001b[0;34m,\u001b[0m\u001b[0;34m\u001b[0m\u001b[0;34m\u001b[0m\u001b[0m\n\u001b[0;32m--> 238\u001b[0;31m         **kw).encode(obj)\n\u001b[0m\u001b[1;32m    239\u001b[0m \u001b[0;34m\u001b[0m\u001b[0m\n\u001b[1;32m    240\u001b[0m \u001b[0;34m\u001b[0m\u001b[0m\n",
      "\u001b[0;32m/opt/conda/lib/python3.7/json/encoder.py\u001b[0m in \u001b[0;36mencode\u001b[0;34m(self, o)\u001b[0m\n\u001b[1;32m    197\u001b[0m         \u001b[0;31m# exceptions aren't as detailed.  The list call should be roughly\u001b[0m\u001b[0;34m\u001b[0m\u001b[0;34m\u001b[0m\u001b[0;34m\u001b[0m\u001b[0m\n\u001b[1;32m    198\u001b[0m         \u001b[0;31m# equivalent to the PySequence_Fast that ''.join() would do.\u001b[0m\u001b[0;34m\u001b[0m\u001b[0;34m\u001b[0m\u001b[0;34m\u001b[0m\u001b[0m\n\u001b[0;32m--> 199\u001b[0;31m         \u001b[0mchunks\u001b[0m \u001b[0;34m=\u001b[0m \u001b[0mself\u001b[0m\u001b[0;34m.\u001b[0m\u001b[0miterencode\u001b[0m\u001b[0;34m(\u001b[0m\u001b[0mo\u001b[0m\u001b[0;34m,\u001b[0m \u001b[0m_one_shot\u001b[0m\u001b[0;34m=\u001b[0m\u001b[0;32mTrue\u001b[0m\u001b[0;34m)\u001b[0m\u001b[0;34m\u001b[0m\u001b[0;34m\u001b[0m\u001b[0m\n\u001b[0m\u001b[1;32m    200\u001b[0m         \u001b[0;32mif\u001b[0m \u001b[0;32mnot\u001b[0m \u001b[0misinstance\u001b[0m\u001b[0;34m(\u001b[0m\u001b[0mchunks\u001b[0m\u001b[0;34m,\u001b[0m \u001b[0;34m(\u001b[0m\u001b[0mlist\u001b[0m\u001b[0;34m,\u001b[0m \u001b[0mtuple\u001b[0m\u001b[0;34m)\u001b[0m\u001b[0;34m)\u001b[0m\u001b[0;34m:\u001b[0m\u001b[0;34m\u001b[0m\u001b[0;34m\u001b[0m\u001b[0m\n\u001b[1;32m    201\u001b[0m             \u001b[0mchunks\u001b[0m \u001b[0;34m=\u001b[0m \u001b[0mlist\u001b[0m\u001b[0;34m(\u001b[0m\u001b[0mchunks\u001b[0m\u001b[0;34m)\u001b[0m\u001b[0;34m\u001b[0m\u001b[0;34m\u001b[0m\u001b[0m\n",
      "\u001b[0;32m/opt/conda/lib/python3.7/json/encoder.py\u001b[0m in \u001b[0;36miterencode\u001b[0;34m(self, o, _one_shot)\u001b[0m\n\u001b[1;32m    255\u001b[0m                 \u001b[0mself\u001b[0m\u001b[0;34m.\u001b[0m\u001b[0mkey_separator\u001b[0m\u001b[0;34m,\u001b[0m \u001b[0mself\u001b[0m\u001b[0;34m.\u001b[0m\u001b[0mitem_separator\u001b[0m\u001b[0;34m,\u001b[0m \u001b[0mself\u001b[0m\u001b[0;34m.\u001b[0m\u001b[0msort_keys\u001b[0m\u001b[0;34m,\u001b[0m\u001b[0;34m\u001b[0m\u001b[0;34m\u001b[0m\u001b[0m\n\u001b[1;32m    256\u001b[0m                 self.skipkeys, _one_shot)\n\u001b[0;32m--> 257\u001b[0;31m         \u001b[0;32mreturn\u001b[0m \u001b[0m_iterencode\u001b[0m\u001b[0;34m(\u001b[0m\u001b[0mo\u001b[0m\u001b[0;34m,\u001b[0m \u001b[0;36m0\u001b[0m\u001b[0;34m)\u001b[0m\u001b[0;34m\u001b[0m\u001b[0;34m\u001b[0m\u001b[0m\n\u001b[0m\u001b[1;32m    258\u001b[0m \u001b[0;34m\u001b[0m\u001b[0m\n\u001b[1;32m    259\u001b[0m def _make_iterencode(markers, _default, _encoder, _indent, _floatstr,\n",
      "\u001b[0;31mTypeError\u001b[0m: Unable to serialize [2.0896919 2.1128857 2.1081853] to JSON. Unrecognized type <class 'tensorflow.python.framework.ops.EagerTensor'>."
     ]
    }
   ],
   "source": [
    "# 6. 모델 저장하기\n",
    "from tensorflow.keras.models import load_model\n",
    "model.save('./EfficientNetB5_32_tuning01.h5')"
   ]
  },
  {
   "cell_type": "code",
   "execution_count": 15,
   "id": "b92874ca",
   "metadata": {},
   "outputs": [],
   "source": [
    "#정확도 f1\n",
    "from sklearn.metrics import *\n",
    "def get_clf_eval(y_test,pred): \n",
    "  f1 = f1_score(y_test,pred,average=\"macro\") \n",
    "  acc = accuracy_score(y_val,predict)   \n",
    "  loss = model.evaluate(x_val, y_val, batch_size=32)\n",
    "  print('정확도 :',acc)\n",
    "  print('f1 score:',f1)\n",
    "  print('loss :',loss )"
   ]
  },
  {
   "cell_type": "code",
   "execution_count": 16,
   "id": "de8ad259",
   "metadata": {},
   "outputs": [
    {
     "name": "stdout",
     "output_type": "stream",
     "text": [
      "172/172 [==============================] - 10s 41ms/step\n"
     ]
    }
   ],
   "source": [
    "predcit = model.predict(x_val)\n",
    "predict = []\n",
    "for i in np.arange(len(predcit)):\n",
    "  labels = np.argmax(predcit[i])\n",
    "  predict.append(labels)\n",
    "predict = np.array(predict)\n",
    "predict = np_utils.to_categorical(predict)"
   ]
  },
  {
   "cell_type": "code",
   "execution_count": 17,
   "id": "b6e2dae7",
   "metadata": {},
   "outputs": [
    {
     "name": "stdout",
     "output_type": "stream",
     "text": [
      "172/172 [==============================] - 7s 42ms/step - loss: 0.3431 - accuracy: 0.9139\n",
      "정확도 : 0.9138808139534884\n",
      "f1 score: 0.9130391554014394\n",
      "loss : [0.34309348464012146, 0.9138808250427246]\n"
     ]
    }
   ],
   "source": [
    "#EfficientNetB4\n",
    "get_clf_eval(y_val,predict)"
   ]
  },
  {
   "cell_type": "code",
   "execution_count": null,
   "id": "3b51f202",
   "metadata": {},
   "outputs": [],
   "source": []
  }
 ],
 "metadata": {
  "kernelspec": {
   "display_name": "Python 3 (ipykernel)",
   "language": "python",
   "name": "python3"
  },
  "language_info": {
   "codemirror_mode": {
    "name": "ipython",
    "version": 3
   },
   "file_extension": ".py",
   "mimetype": "text/x-python",
   "name": "python",
   "nbconvert_exporter": "python",
   "pygments_lexer": "ipython3",
   "version": "3.7.12"
  }
 },
 "nbformat": 4,
 "nbformat_minor": 5
}
