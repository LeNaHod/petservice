{
 "cells": [
  {
   "cell_type": "markdown",
   "id": "2ecd1d32",
   "metadata": {},
   "source": [
    "rmsprop = RMSprop(\n",
    "    learning_rate=0.0001,\n",
    ")\n",
    "Desnse(1024)"
   ]
  },
  {
   "cell_type": "code",
   "execution_count": 1,
   "id": "bf98f605",
   "metadata": {},
   "outputs": [
    {
     "name": "stderr",
     "output_type": "stream",
     "text": [
      "2023-01-20 00:56:03.693212: I tensorflow/core/platform/cpu_feature_guard.cc:193] This TensorFlow binary is optimized with oneAPI Deep Neural Network Library (oneDNN) to use the following CPU instructions in performance-critical operations:  AVX2 AVX512F AVX512_VNNI FMA\n",
      "To enable them in other operations, rebuild TensorFlow with the appropriate compiler flags.\n",
      "2023-01-20 00:56:03.826365: I tensorflow/core/util/port.cc:104] oneDNN custom operations are on. You may see slightly different numerical results due to floating-point round-off errors from different computation orders. To turn them off, set the environment variable `TF_ENABLE_ONEDNN_OPTS=0`.\n",
      "2023-01-20 00:56:04.641466: W tensorflow/compiler/xla/stream_executor/platform/default/dso_loader.cc:64] Could not load dynamic library 'libnvinfer.so.7'; dlerror: libnvinfer.so.7: cannot open shared object file: No such file or directory; LD_LIBRARY_PATH: /usr/local/cuda/lib64:/usr/local/nccl2/lib:/usr/local/cuda/extras/CUPTI/lib64\n",
      "2023-01-20 00:56:04.641558: W tensorflow/compiler/xla/stream_executor/platform/default/dso_loader.cc:64] Could not load dynamic library 'libnvinfer_plugin.so.7'; dlerror: libnvinfer_plugin.so.7: cannot open shared object file: No such file or directory; LD_LIBRARY_PATH: /usr/local/cuda/lib64:/usr/local/nccl2/lib:/usr/local/cuda/extras/CUPTI/lib64\n",
      "2023-01-20 00:56:04.641568: W tensorflow/compiler/tf2tensorrt/utils/py_utils.cc:38] TF-TRT Warning: Cannot dlopen some TensorRT libraries. If you would like to use Nvidia GPU with TensorRT, please make sure the missing libraries mentioned above are installed properly.\n"
     ]
    }
   ],
   "source": [
    "import os\n",
    "import io\n",
    "from zipfile import ZipFile\n",
    "import pandas as pd\n",
    "import tensorflow as tf\n",
    "from PIL import Image\n",
    "import numpy as np\n",
    "import random\n",
    "import matplotlib.image as mpimg\n",
    "import matplotlib.pyplot as plt\n",
    "import cv2\n",
    "from sklearn.metrics import *\n",
    "import os\n",
    "import zipfile\n",
    "from keras.utils import np_utils\n",
    "from sklearn.model_selection import train_test_split\n",
    "from tensorflow.keras.preprocessing.image import ImageDataGenerator"
   ]
  },
  {
   "cell_type": "code",
   "execution_count": 2,
   "id": "700e78ba",
   "metadata": {},
   "outputs": [],
   "source": [
    "#백내장 무 폴더 정리\n",
    "img_dir0 = './eyes_train/eye_train/0'\n",
    "img0 = os.listdir(img_dir0)\n",
    "image0 = list(filter(lambda x: x.find('.jpg') != -1 or x.find('.png') != -1, img0))\n",
    "label0 = list(filter(lambda x : x.find('.json')!=-1,img0))\n",
    "image_0 = []\n",
    "image_label0 = []\n",
    "for i in image0:\n",
    "    img = np.array(Image.open('./eyes_train/eye_train/0/{}'.format(i)))\n",
    "    im = img[50:350,50:350]\n",
    "    im0 = cv2.resize(im,(224,224))\n",
    "    image_0.append(im0)\n",
    "    image_label0.append(0)"
   ]
  },
  {
   "cell_type": "code",
   "execution_count": 3,
   "id": "f650fc38",
   "metadata": {},
   "outputs": [],
   "source": [
    "#백내장 초기 폴더 정리\n",
    "img_dir1 = './eyes_train/eye_train/1'\n",
    "img1 = os.listdir(img_dir1)\n",
    "image1 = list(filter(lambda x: x.find('.jpg') != -1 or x.find('.png') != -1, img1))\n",
    "label1 = list(filter(lambda x : x.find('.json')!=-1,img1))\n",
    "for i in image1:\n",
    "    img = np.array(Image.open('./eyes_train/eye_train/1/{}'.format(i)))\n",
    "    im = img[50:350,50:350]\n",
    "    im1 = cv2.resize(im,(224,224))\n",
    "    image_0.append(im1)\n",
    "    image_label0.append(1)"
   ]
  },
  {
   "cell_type": "code",
   "execution_count": 4,
   "id": "549437d0",
   "metadata": {},
   "outputs": [],
   "source": [
    "#백내장 비성숙 폴더 정리\n",
    "img_dir2 = './eyes_train/eye_train/2'\n",
    "img2 = os.listdir(img_dir2)\n",
    "image2 = list(filter(lambda x: x.find('.jpg') != -1 or x.find('.png') != -1, img2))\n",
    "label2 = list(filter(lambda x : x.find('.json')!=-1,img2))\n",
    "for i in image2:\n",
    "    img = np.array(Image.open('./eyes_train/eye_train/2/{}'.format(i)))\n",
    "    im = img[50:350,50:350]\n",
    "    im2 = cv2.resize(im,(224,224))\n",
    "    image_0.append(im2)\n",
    "    image_label0.append(2)"
   ]
  },
  {
   "cell_type": "code",
   "execution_count": 5,
   "id": "ddb03655",
   "metadata": {},
   "outputs": [],
   "source": [
    "#백내장 성숙 폴더 정리\n",
    "img_dir3 = './eyes_train/eye_train/3'\n",
    "img3 = os.listdir(img_dir3)\n",
    "image3 = list(filter(lambda x: x.find('.jpg') != -1 or x.find('.png') != -1, img3))\n",
    "label3 = list(filter(lambda x : x.find('.json')!=-1,img3))\n",
    "for i in image3:\n",
    "    img = np.array(Image.open('./eyes_train/eye_train/3/{}'.format(i)))\n",
    "    im = img[50:350,50:350]\n",
    "    im3 = cv2.resize(im,(224,224))\n",
    "    image_0.append(im3)\n",
    "    image_label0.append(3)"
   ]
  },
  {
   "cell_type": "code",
   "execution_count": 6,
   "id": "4db0332f",
   "metadata": {},
   "outputs": [],
   "source": [
    "x = np.array(image_0)\n",
    "y = np.array(image_label0)"
   ]
  },
  {
   "cell_type": "code",
   "execution_count": 7,
   "id": "5a16738d",
   "metadata": {},
   "outputs": [],
   "source": [
    "#원핫 인코딩\n",
    "y = np_utils.to_categorical(y)"
   ]
  },
  {
   "cell_type": "code",
   "execution_count": 8,
   "id": "b1f93ec2",
   "metadata": {},
   "outputs": [],
   "source": [
    "#데이터 분할\n",
    "x_train, x_val, y_train, y_val = train_test_split(x, y, shuffle =True, test_size = 0.2, random_state = 123)"
   ]
  },
  {
   "cell_type": "code",
   "execution_count": 9,
   "id": "6bad89c2",
   "metadata": {},
   "outputs": [
    {
     "name": "stderr",
     "output_type": "stream",
     "text": [
      "2023-01-20 00:57:00.326131: I tensorflow/core/platform/cpu_feature_guard.cc:193] This TensorFlow binary is optimized with oneAPI Deep Neural Network Library (oneDNN) to use the following CPU instructions in performance-critical operations:  AVX2 AVX512F AVX512_VNNI FMA\n",
      "To enable them in other operations, rebuild TensorFlow with the appropriate compiler flags.\n",
      "2023-01-20 00:57:00.961399: I tensorflow/core/common_runtime/gpu/gpu_device.cc:1613] Created device /job:localhost/replica:0/task:0/device:GPU:0 with 38220 MB memory:  -> device: 0, name: NVIDIA A100-SXM4-40GB, pci bus id: 0000:00:04.0, compute capability: 8.0\n"
     ]
    }
   ],
   "source": [
    "from tensorflow.keras.models import Sequential\n",
    "from tensorflow.keras.layers import Conv2D,MaxPool2D, Dense, Flatten, BatchNormalization, Activation\n",
    "from tensorflow.keras.optimizers import Adam, RMSprop\n",
    "from tensorflow.keras.applications.efficientnet import EfficientNetB5\n",
    "from tensorflow.nn import silu\n",
    "#EfficientNetB5불러오기\n",
    "Eff = EfficientNetB5(weights = 'imagenet', input_shape = (224,224,3), include_top = False, pooling = 'avg')"
   ]
  },
  {
   "cell_type": "code",
   "execution_count": 10,
   "id": "c8e8feb6",
   "metadata": {},
   "outputs": [],
   "source": [
    "rmsprop = RMSprop(\n",
    "    learning_rate=0.0001,\n",
    ")"
   ]
  },
  {
   "cell_type": "code",
   "execution_count": 11,
   "id": "877a389f",
   "metadata": {},
   "outputs": [
    {
     "name": "stdout",
     "output_type": "stream",
     "text": [
      "Epoch 1/10\n"
     ]
    },
    {
     "name": "stderr",
     "output_type": "stream",
     "text": [
      "2023-01-20 00:57:39.851711: E tensorflow/core/grappler/optimizers/meta_optimizer.cc:954] layout failed: INVALID_ARGUMENT: Size of values 0 does not match size of permutation 4 @ fanin shape insequential/efficientnetb5/block1b_drop/dropout/SelectV2-2-TransposeNHWCToNCHW-LayoutOptimizer\n",
      "2023-01-20 00:57:44.707417: I tensorflow/compiler/xla/stream_executor/cuda/cuda_dnn.cc:428] Loaded cuDNN version 8200\n",
      "2023-01-20 00:57:46.348170: I tensorflow/compiler/xla/stream_executor/cuda/cuda_blas.cc:630] TensorFloat-32 will be used for the matrix multiplication. This will only be logged once.\n",
      "2023-01-20 00:57:46.402342: I tensorflow/compiler/xla/service/service.cc:173] XLA service 0x7f7b6e4f6740 initialized for platform CUDA (this does not guarantee that XLA will be used). Devices:\n",
      "2023-01-20 00:57:46.402375: I tensorflow/compiler/xla/service/service.cc:181]   StreamExecutor device (0): NVIDIA A100-SXM4-40GB, Compute Capability 8.0\n",
      "2023-01-20 00:57:46.407793: I tensorflow/compiler/mlir/tensorflow/utils/dump_mlir_util.cc:268] disabling MLIR crash reproducer, set env var `MLIR_CRASH_REPRODUCER_DIRECTORY` to enable.\n",
      "2023-01-20 00:57:46.530105: I tensorflow/compiler/jit/xla_compilation_cache.cc:477] Compiled cluster using XLA!  This line is logged at most once for the lifetime of the process.\n"
     ]
    },
    {
     "name": "stdout",
     "output_type": "stream",
     "text": [
      "688/688 [==============================] - 212s 207ms/step - loss: 0.6088 - accuracy: 0.7391 - val_loss: 0.4041 - val_accuracy: 0.8278\n",
      "Epoch 2/10\n",
      "688/688 [==============================] - 138s 201ms/step - loss: 0.2970 - accuracy: 0.8861 - val_loss: 0.3284 - val_accuracy: 0.8797\n",
      "Epoch 3/10\n",
      "688/688 [==============================] - 138s 201ms/step - loss: 0.1486 - accuracy: 0.9454 - val_loss: 0.3197 - val_accuracy: 0.8937\n",
      "Epoch 4/10\n",
      "688/688 [==============================] - 138s 201ms/step - loss: 0.0946 - accuracy: 0.9670 - val_loss: 0.3717 - val_accuracy: 0.8924\n",
      "Epoch 5/10\n",
      "688/688 [==============================] - 138s 201ms/step - loss: 0.0658 - accuracy: 0.9774 - val_loss: 0.3565 - val_accuracy: 0.9095\n",
      "Epoch 6/10\n",
      "688/688 [==============================] - 138s 200ms/step - loss: 0.0547 - accuracy: 0.9809 - val_loss: 0.3426 - val_accuracy: 0.9135\n",
      "Epoch 7/10\n",
      "688/688 [==============================] - 137s 200ms/step - loss: 0.0477 - accuracy: 0.9837 - val_loss: 0.3535 - val_accuracy: 0.9162\n",
      "Epoch 8/10\n",
      "688/688 [==============================] - 138s 200ms/step - loss: 0.0380 - accuracy: 0.9868 - val_loss: 0.3195 - val_accuracy: 0.9162\n",
      "Epoch 9/10\n",
      "688/688 [==============================] - 138s 200ms/step - loss: 0.0318 - accuracy: 0.9893 - val_loss: 0.3452 - val_accuracy: 0.9188\n",
      "Epoch 10/10\n",
      "688/688 [==============================] - 138s 200ms/step - loss: 0.0266 - accuracy: 0.9915 - val_loss: 0.3828 - val_accuracy: 0.9159\n"
     ]
    }
   ],
   "source": [
    "model = Sequential()\n",
    "#분류기 직접 정리\n",
    "model.add(Eff)\n",
    "model.add(Dense(1024))\n",
    "model.add(BatchNormalization())\n",
    "model.add(Activation('silu'))\n",
    "model.add(Dense(4,activation = 'softmax'))\n",
    "model.compile(optimizer=rmsprop, # 옵티마이저 : rmsprop\n",
    "              loss = 'categorical_crossentropy', # 손실 함수 : sparse_categorical_crossentropy\n",
    "              metrics = ['accuracy']) # 모니터링 할 평가지표 : \n",
    "history = model.fit(x_train, y_train, \n",
    "                      epochs = 10, \n",
    "                      batch_size = 32, \n",
    "                      validation_data = (x_val, y_val))"
   ]
  },
  {
   "cell_type": "code",
   "execution_count": 12,
   "id": "f297065f",
   "metadata": {},
   "outputs": [
    {
     "name": "stdout",
     "output_type": "stream",
     "text": [
      "Model: \"sequential\"\n",
      "_________________________________________________________________\n",
      " Layer (type)                Output Shape              Param #   \n",
      "=================================================================\n",
      " efficientnetb5 (Functional)  (None, 2048)             28513527  \n",
      "                                                                 \n",
      " dense (Dense)               (None, 1024)              2098176   \n",
      "                                                                 \n",
      " batch_normalization (BatchN  (None, 1024)             4096      \n",
      " ormalization)                                                   \n",
      "                                                                 \n",
      " activation (Activation)     (None, 1024)              0         \n",
      "                                                                 \n",
      " dense_1 (Dense)             (None, 4)                 4100      \n",
      "                                                                 \n",
      "=================================================================\n",
      "Total params: 30,619,899\n",
      "Trainable params: 30,445,108\n",
      "Non-trainable params: 174,791\n",
      "_________________________________________________________________\n"
     ]
    }
   ],
   "source": [
    "model.summary()"
   ]
  },
  {
   "cell_type": "code",
   "execution_count": 13,
   "id": "0a96c7d0",
   "metadata": {},
   "outputs": [
    {
     "data": {
      "image/png": "[encoded data removed]",
      "text/plain": [
       "<Figure size 1000x500 with 2 Axes>"
      ]
     },
     "metadata": {},
     "output_type": "display_data"
    }
   ],
   "source": [
    "# 정확도와 로스 그래프\n",
    "his_dict = history.history\n",
    "loss = his_dict['loss']\n",
    "val_loss = his_dict['val_loss'] \n",
    "\n",
    "epochs = range(1, len(loss) + 1)\n",
    "fig = plt.figure(figsize = (10, 5))\n",
    "\n",
    "# 훈련 및 검증 손실 그리기\n",
    "ax1 = fig.add_subplot(1, 2, 1)\n",
    "ax1.plot(epochs, loss, color = 'blue', label = 'train_loss')\n",
    "ax1.plot(epochs, val_loss, color = 'orange', label = 'val_loss')\n",
    "ax1.set_title('train and val loss')\n",
    "ax1.set_xlabel('epochs')\n",
    "ax1.set_ylabel('loss')\n",
    "ax1.legend()\n",
    "\n",
    "acc = his_dict['accuracy']\n",
    "val_acc = his_dict['val_accuracy']\n",
    "\n",
    "# 훈련 및 검증 정확도 그리기\n",
    "ax2 = fig.add_subplot(1, 2, 2)\n",
    "ax2.plot(epochs, acc, color = 'blue', label = 'train_acc')\n",
    "ax2.plot(epochs, val_acc, color = 'orange', label = 'val_acc')\n",
    "ax2.set_title('train and val acc')\n",
    "ax2.set_xlabel('epochs')\n",
    "ax2.set_ylabel('acc')\n",
    "ax2.legend()\n",
    "\n",
    "plt.show()"
   ]
  },
  {
   "cell_type": "code",
   "execution_count": 14,
   "id": "c00dc11a",
   "metadata": {},
   "outputs": [],
   "source": [
    "# 6. 모델 저장하기\n",
    "#from tensorflow.keras.models import load_model\n",
    "#model.save('./EfficientNetB5_32_tuning06.h5')"
   ]
  },
  {
   "cell_type": "code",
   "execution_count": 15,
   "id": "b92874ca",
   "metadata": {},
   "outputs": [],
   "source": [
    "#정확도 f1\n",
    "from sklearn.metrics import *\n",
    "def get_clf_eval(y_test,pred): \n",
    "  f1 = f1_score(y_test,pred,average=\"macro\") \n",
    "  acc = accuracy_score(y_val,predict)   \n",
    "  loss = model.evaluate(x_val, y_val, batch_size=32)\n",
    "  print('정확도 :',acc)\n",
    "  print('f1 score:',f1)\n",
    "  print('loss :',loss )"
   ]
  },
  {
   "cell_type": "code",
   "execution_count": 16,
   "id": "de8ad259",
   "metadata": {},
   "outputs": [
    {
     "name": "stdout",
     "output_type": "stream",
     "text": [
      "172/172 [==============================] - 10s 41ms/step\n"
     ]
    }
   ],
   "source": [
    "predcit = model.predict(x_val)\n",
    "predict = []\n",
    "for i in np.arange(len(predcit)):\n",
    "  labels = np.argmax(predcit[i])\n",
    "  predict.append(labels)\n",
    "predict = np.array(predict)\n",
    "predict = np_utils.to_categorical(predict)"
   ]
  },
  {
   "cell_type": "code",
   "execution_count": 17,
   "id": "b6e2dae7",
   "metadata": {},
   "outputs": [
    {
     "name": "stdout",
     "output_type": "stream",
     "text": [
      "172/172 [==============================] - 7s 43ms/step - loss: 0.3828 - accuracy: 0.9159\n",
      "정확도 : 0.9158793604651163\n",
      "f1 score: 0.9149824651934199\n",
      "loss : [0.38276490569114685, 0.9158793687820435]\n"
     ]
    }
   ],
   "source": [
    "#EfficientNetB4\n",
    "get_clf_eval(y_val,predict)"
   ]
  }
 ],
 "metadata": {
  "kernelspec": {
   "display_name": "Python 3 (ipykernel)",
   "language": "python",
   "name": "python3"
  },
  "language_info": {
   "codemirror_mode": {
    "name": "ipython",
    "version": 3
   },
   "file_extension": ".py",
   "mimetype": "text/x-python",
   "name": "python",
   "nbconvert_exporter": "python",
   "pygments_lexer": "ipython3",
   "version": "3.7.12"
  }
 },
 "nbformat": 4,
 "nbformat_minor": 5
}
