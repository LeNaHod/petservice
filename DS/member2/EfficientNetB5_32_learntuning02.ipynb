{
 "cells": [
  {
   "cell_type": "markdown",
   "id": "803fdc26",
   "metadata": {},
   "source": [
    "Adam(1e-4),Dense512"
   ]
  },
  {
   "cell_type": "code",
   "execution_count": 1,
   "id": "bf98f605",
   "metadata": {},
   "outputs": [
    {
     "name": "stderr",
     "output_type": "stream",
     "text": [
      "2023-01-20 07:38:50.600184: I tensorflow/core/platform/cpu_feature_guard.cc:193] This TensorFlow binary is optimized with oneAPI Deep Neural Network Library (oneDNN) to use the following CPU instructions in performance-critical operations:  AVX2 AVX512F AVX512_VNNI FMA\n",
      "To enable them in other operations, rebuild TensorFlow with the appropriate compiler flags.\n",
      "2023-01-20 07:38:50.731326: I tensorflow/core/util/port.cc:104] oneDNN custom operations are on. You may see slightly different numerical results due to floating-point round-off errors from different computation orders. To turn them off, set the environment variable `TF_ENABLE_ONEDNN_OPTS=0`.\n",
      "2023-01-20 07:38:51.557036: W tensorflow/compiler/xla/stream_executor/platform/default/dso_loader.cc:64] Could not load dynamic library 'libnvinfer.so.7'; dlerror: libnvinfer.so.7: cannot open shared object file: No such file or directory; LD_LIBRARY_PATH: /usr/local/cuda/lib64:/usr/local/nccl2/lib:/usr/local/cuda/extras/CUPTI/lib64\n",
      "2023-01-20 07:38:51.557130: W tensorflow/compiler/xla/stream_executor/platform/default/dso_loader.cc:64] Could not load dynamic library 'libnvinfer_plugin.so.7'; dlerror: libnvinfer_plugin.so.7: cannot open shared object file: No such file or directory; LD_LIBRARY_PATH: /usr/local/cuda/lib64:/usr/local/nccl2/lib:/usr/local/cuda/extras/CUPTI/lib64\n",
      "2023-01-20 07:38:51.557140: W tensorflow/compiler/tf2tensorrt/utils/py_utils.cc:38] TF-TRT Warning: Cannot dlopen some TensorRT libraries. If you would like to use Nvidia GPU with TensorRT, please make sure the missing libraries mentioned above are installed properly.\n"
     ]
    }
   ],
   "source": [
    "import os\n",
    "import io\n",
    "from zipfile import ZipFile\n",
    "import pandas as pd\n",
    "import tensorflow as tf\n",
    "from PIL import Image\n",
    "import numpy as np\n",
    "import random\n",
    "import matplotlib.image as mpimg\n",
    "import matplotlib.pyplot as plt\n",
    "import cv2\n",
    "from sklearn.metrics import *\n",
    "import os\n",
    "import zipfile\n",
    "from keras.utils import np_utils\n",
    "from sklearn.model_selection import train_test_split\n",
    "from tensorflow.keras.preprocessing.image import ImageDataGenerator"
   ]
  },
  {
   "cell_type": "code",
   "execution_count": 2,
   "id": "700e78ba",
   "metadata": {},
   "outputs": [],
   "source": [
    "#백내장 무 폴더 정리\n",
    "img_dir0 = './eyes_train/eye_train/0'\n",
    "img0 = os.listdir(img_dir0)\n",
    "image0 = list(filter(lambda x: x.find('.jpg') != -1 or x.find('.png') != -1, img0))\n",
    "label0 = list(filter(lambda x : x.find('.json')!=-1,img0))\n",
    "image_0 = []\n",
    "image_label0 = []\n",
    "for i in image0:\n",
    "    img = np.array(Image.open('./eyes_train/eye_train/0/{}'.format(i)))\n",
    "    im = img[50:350,50:350]\n",
    "    im0 = cv2.resize(im,(224,224))\n",
    "    image_0.append(im0)\n",
    "    image_label0.append(0)"
   ]
  },
  {
   "cell_type": "code",
   "execution_count": 3,
   "id": "f650fc38",
   "metadata": {},
   "outputs": [],
   "source": [
    "#백내장 초기 폴더 정리\n",
    "img_dir1 = './eyes_train/eye_train/1'\n",
    "img1 = os.listdir(img_dir1)\n",
    "image1 = list(filter(lambda x: x.find('.jpg') != -1 or x.find('.png') != -1, img1))\n",
    "label1 = list(filter(lambda x : x.find('.json')!=-1,img1))\n",
    "for i in image1:\n",
    "    img = np.array(Image.open('./eyes_train/eye_train/1/{}'.format(i)))\n",
    "    im = img[50:350,50:350]\n",
    "    im1 = cv2.resize(im,(224,224))\n",
    "    image_0.append(im1)\n",
    "    image_label0.append(1)"
   ]
  },
  {
   "cell_type": "code",
   "execution_count": 4,
   "id": "549437d0",
   "metadata": {},
   "outputs": [],
   "source": [
    "#백내장 비성숙 폴더 정리\n",
    "img_dir2 = './eyes_train/eye_train/2'\n",
    "img2 = os.listdir(img_dir2)\n",
    "image2 = list(filter(lambda x: x.find('.jpg') != -1 or x.find('.png') != -1, img2))\n",
    "label2 = list(filter(lambda x : x.find('.json')!=-1,img2))\n",
    "for i in image2:\n",
    "    img = np.array(Image.open('./eyes_train/eye_train/2/{}'.format(i)))\n",
    "    im = img[50:350,50:350]\n",
    "    im2 = cv2.resize(im,(224,224))\n",
    "    image_0.append(im2)\n",
    "    image_label0.append(2)"
   ]
  },
  {
   "cell_type": "code",
   "execution_count": 5,
   "id": "ddb03655",
   "metadata": {},
   "outputs": [],
   "source": [
    "#백내장 성숙 폴더 정리\n",
    "img_dir3 = './eyes_train/eye_train/3'\n",
    "img3 = os.listdir(img_dir3)\n",
    "image3 = list(filter(lambda x: x.find('.jpg') != -1 or x.find('.png') != -1, img3))\n",
    "label3 = list(filter(lambda x : x.find('.json')!=-1,img3))\n",
    "for i in image3:\n",
    "    img = np.array(Image.open('./eyes_train/eye_train/3/{}'.format(i)))\n",
    "    im = img[50:350,50:350]\n",
    "    im3 = cv2.resize(im,(224,224))\n",
    "    image_0.append(im3)\n",
    "    image_label0.append(3)"
   ]
  },
  {
   "cell_type": "code",
   "execution_count": 6,
   "id": "4db0332f",
   "metadata": {},
   "outputs": [],
   "source": [
    "x = np.array(image_0)\n",
    "y = np.array(image_label0)"
   ]
  },
  {
   "cell_type": "code",
   "execution_count": 7,
   "id": "5a16738d",
   "metadata": {},
   "outputs": [],
   "source": [
    "#원핫 인코딩\n",
    "y = np_utils.to_categorical(y)"
   ]
  },
  {
   "cell_type": "code",
   "execution_count": 8,
   "id": "b1f93ec2",
   "metadata": {},
   "outputs": [],
   "source": [
    "#데이터 분할\n",
    "x_train, x_val, y_train, y_val = train_test_split(x, y, shuffle =True, test_size = 0.2, random_state = 123)"
   ]
  },
  {
   "cell_type": "code",
   "execution_count": 9,
   "id": "6bad89c2",
   "metadata": {},
   "outputs": [
    {
     "name": "stderr",
     "output_type": "stream",
     "text": [
      "2023-01-20 07:39:47.861694: I tensorflow/core/platform/cpu_feature_guard.cc:193] This TensorFlow binary is optimized with oneAPI Deep Neural Network Library (oneDNN) to use the following CPU instructions in performance-critical operations:  AVX2 AVX512F AVX512_VNNI FMA\n",
      "To enable them in other operations, rebuild TensorFlow with the appropriate compiler flags.\n",
      "2023-01-20 07:39:48.500533: I tensorflow/core/common_runtime/gpu/gpu_device.cc:1613] Created device /job:localhost/replica:0/task:0/device:GPU:0 with 38220 MB memory:  -> device: 0, name: NVIDIA A100-SXM4-40GB, pci bus id: 0000:00:04.0, compute capability: 8.0\n"
     ]
    }
   ],
   "source": [
    "from tensorflow.keras.models import Sequential\n",
    "from tensorflow.keras.layers import Conv2D,MaxPool2D, Dense, Flatten, BatchNormalization, Activation\n",
    "from tensorflow.keras.optimizers import Adam, RMSprop\n",
    "from tensorflow.keras.applications.efficientnet import EfficientNetB4\n",
    "from tensorflow.nn import silu\n",
    "#EfficientNetB5불러오기\n",
    "Eff = EfficientNetB4(weights = 'imagenet', input_shape = (224,224,3), include_top = False, pooling = 'avg')"
   ]
  },
  {
   "cell_type": "code",
   "execution_count": 10,
   "id": "877a389f",
   "metadata": {},
   "outputs": [
    {
     "name": "stdout",
     "output_type": "stream",
     "text": [
      "Epoch 1/30\n"
     ]
    },
    {
     "name": "stderr",
     "output_type": "stream",
     "text": [
      "2023-01-20 07:40:26.960646: E tensorflow/core/grappler/optimizers/meta_optimizer.cc:954] layout failed: INVALID_ARGUMENT: Size of values 0 does not match size of permutation 4 @ fanin shape insequential/efficientnetb4/block1b_drop/dropout/SelectV2-2-TransposeNHWCToNCHW-LayoutOptimizer\n",
      "2023-01-20 07:40:32.174542: I tensorflow/compiler/xla/stream_executor/cuda/cuda_dnn.cc:428] Loaded cuDNN version 8200\n",
      "2023-01-20 07:40:33.819795: I tensorflow/compiler/xla/stream_executor/cuda/cuda_blas.cc:630] TensorFloat-32 will be used for the matrix multiplication. This will only be logged once.\n",
      "2023-01-20 07:40:33.860076: I tensorflow/compiler/xla/service/service.cc:173] XLA service 0x7fb770e544b0 initialized for platform CUDA (this does not guarantee that XLA will be used). Devices:\n",
      "2023-01-20 07:40:33.860112: I tensorflow/compiler/xla/service/service.cc:181]   StreamExecutor device (0): NVIDIA A100-SXM4-40GB, Compute Capability 8.0\n",
      "2023-01-20 07:40:33.865927: I tensorflow/compiler/mlir/tensorflow/utils/dump_mlir_util.cc:268] disabling MLIR crash reproducer, set env var `MLIR_CRASH_REPRODUCER_DIRECTORY` to enable.\n",
      "2023-01-20 07:40:34.013160: I tensorflow/compiler/jit/xla_compilation_cache.cc:477] Compiled cluster using XLA!  This line is logged at most once for the lifetime of the process.\n"
     ]
    },
    {
     "name": "stdout",
     "output_type": "stream",
     "text": [
      "688/688 [==============================] - 181s 154ms/step - loss: 0.8847 - accuracy: 0.6019 - val_loss: 0.6598 - val_accuracy: 0.7042\n",
      "Epoch 2/30\n",
      "688/688 [==============================] - 102s 148ms/step - loss: 0.6261 - accuracy: 0.7304 - val_loss: 0.5582 - val_accuracy: 0.7547\n",
      "Epoch 3/30\n",
      "688/688 [==============================] - 102s 149ms/step - loss: 0.5331 - accuracy: 0.7764 - val_loss: 0.4997 - val_accuracy: 0.7838\n",
      "Epoch 4/30\n",
      "688/688 [==============================] - 102s 149ms/step - loss: 0.4535 - accuracy: 0.8158 - val_loss: 0.4547 - val_accuracy: 0.8051\n",
      "Epoch 5/30\n",
      "688/688 [==============================] - 102s 148ms/step - loss: 0.3870 - accuracy: 0.8500 - val_loss: 0.4191 - val_accuracy: 0.8236\n",
      "Epoch 6/30\n",
      "688/688 [==============================] - 103s 149ms/step - loss: 0.3274 - accuracy: 0.8755 - val_loss: 0.3928 - val_accuracy: 0.8336\n",
      "Epoch 7/30\n",
      "688/688 [==============================] - 102s 149ms/step - loss: 0.2747 - accuracy: 0.8975 - val_loss: 0.3761 - val_accuracy: 0.8430\n",
      "Epoch 8/30\n",
      "688/688 [==============================] - 102s 148ms/step - loss: 0.2276 - accuracy: 0.9205 - val_loss: 0.3568 - val_accuracy: 0.8545\n",
      "Epoch 9/30\n",
      "688/688 [==============================] - 102s 149ms/step - loss: 0.1871 - accuracy: 0.9355 - val_loss: 0.3486 - val_accuracy: 0.8581\n",
      "Epoch 10/30\n",
      "688/688 [==============================] - 102s 149ms/step - loss: 0.1567 - accuracy: 0.9468 - val_loss: 0.3358 - val_accuracy: 0.8695\n",
      "Epoch 11/30\n",
      "688/688 [==============================] - 102s 148ms/step - loss: 0.1301 - accuracy: 0.9568 - val_loss: 0.3346 - val_accuracy: 0.8741\n",
      "Epoch 12/30\n",
      "688/688 [==============================] - 102s 149ms/step - loss: 0.1101 - accuracy: 0.9647 - val_loss: 0.3229 - val_accuracy: 0.8805\n",
      "Epoch 13/30\n",
      "688/688 [==============================] - 102s 148ms/step - loss: 0.0911 - accuracy: 0.9712 - val_loss: 0.3190 - val_accuracy: 0.8850\n",
      "Epoch 14/30\n",
      "688/688 [==============================] - 102s 149ms/step - loss: 0.0796 - accuracy: 0.9762 - val_loss: 0.3207 - val_accuracy: 0.8866\n",
      "Epoch 15/30\n",
      "688/688 [==============================] - 102s 148ms/step - loss: 0.0699 - accuracy: 0.9792 - val_loss: 0.3201 - val_accuracy: 0.8879\n",
      "Epoch 16/30\n",
      "688/688 [==============================] - 102s 148ms/step - loss: 0.0598 - accuracy: 0.9805 - val_loss: 0.3153 - val_accuracy: 0.8923\n",
      "Epoch 17/30\n",
      "688/688 [==============================] - 102s 149ms/step - loss: 0.0534 - accuracy: 0.9840 - val_loss: 0.3159 - val_accuracy: 0.8921\n",
      "Epoch 18/30\n",
      "688/688 [==============================] - 102s 148ms/step - loss: 0.0473 - accuracy: 0.9846 - val_loss: 0.3139 - val_accuracy: 0.8964\n",
      "Epoch 19/30\n",
      "688/688 [==============================] - 102s 148ms/step - loss: 0.0444 - accuracy: 0.9875 - val_loss: 0.3189 - val_accuracy: 0.8975\n",
      "Epoch 20/30\n",
      "688/688 [==============================] - 102s 148ms/step - loss: 0.0436 - accuracy: 0.9863 - val_loss: 0.3135 - val_accuracy: 0.8964\n",
      "Epoch 21/30\n",
      "688/688 [==============================] - 102s 149ms/step - loss: 0.0374 - accuracy: 0.9881 - val_loss: 0.3154 - val_accuracy: 0.8997\n",
      "Epoch 22/30\n",
      "688/688 [==============================] - 102s 148ms/step - loss: 0.0342 - accuracy: 0.9897 - val_loss: 0.3144 - val_accuracy: 0.9013\n",
      "Epoch 23/30\n",
      "688/688 [==============================] - 102s 148ms/step - loss: 0.0320 - accuracy: 0.9901 - val_loss: 0.3109 - val_accuracy: 0.9052\n",
      "Epoch 24/30\n",
      "688/688 [==============================] - 102s 148ms/step - loss: 0.0282 - accuracy: 0.9914 - val_loss: 0.3188 - val_accuracy: 0.9050\n",
      "Epoch 25/30\n",
      "688/688 [==============================] - 102s 149ms/step - loss: 0.0258 - accuracy: 0.9924 - val_loss: 0.3266 - val_accuracy: 0.9035\n",
      "Epoch 26/30\n",
      "688/688 [==============================] - 103s 149ms/step - loss: 0.0254 - accuracy: 0.9927 - val_loss: 0.3234 - val_accuracy: 0.9061\n",
      "Epoch 27/30\n",
      "688/688 [==============================] - 103s 149ms/step - loss: 0.0218 - accuracy: 0.9936 - val_loss: 0.3242 - val_accuracy: 0.9070\n",
      "Epoch 28/30\n",
      "688/688 [==============================] - 103s 149ms/step - loss: 0.0222 - accuracy: 0.9931 - val_loss: 0.3239 - val_accuracy: 0.9072\n",
      "Epoch 29/30\n",
      "688/688 [==============================] - 102s 148ms/step - loss: 0.0202 - accuracy: 0.9938 - val_loss: 0.3202 - val_accuracy: 0.9068\n",
      "Epoch 30/30\n",
      "688/688 [==============================] - 102s 148ms/step - loss: 0.0200 - accuracy: 0.9941 - val_loss: 0.3279 - val_accuracy: 0.9062\n"
     ]
    }
   ],
   "source": [
    "model = Sequential()\n",
    "#분류기 직접 정리\n",
    "model.add(Eff)\n",
    "model.add(Dense(512))\n",
    "model.add(BatchNormalization())\n",
    "model.add(Activation('silu'))\n",
    "model.add(Dense(4,activation = 'softmax'))\n",
    "model.compile(optimizer=Adam(1e-5), # 옵티마이저 : rmsprop\n",
    "              loss = 'categorical_crossentropy', # 손실 함수 : sparse_categorical_crossentropy\n",
    "              metrics = ['accuracy']) # 모니터링 할 평가지표 : \n",
    "history = model.fit(x_train, y_train, \n",
    "                      epochs = 30, \n",
    "                      batch_size = 32, \n",
    "                      validation_data = (x_val, y_val))"
   ]
  },
  {
   "cell_type": "code",
   "execution_count": 11,
   "id": "f297065f",
   "metadata": {},
   "outputs": [
    {
     "name": "stdout",
     "output_type": "stream",
     "text": [
      "Model: \"sequential\"\n",
      "_________________________________________________________________\n",
      " Layer (type)                Output Shape              Param #   \n",
      "=================================================================\n",
      " efficientnetb4 (Functional)  (None, 1792)             17673823  \n",
      "                                                                 \n",
      " dense (Dense)               (None, 512)               918016    \n",
      "                                                                 \n",
      " batch_normalization (BatchN  (None, 512)              2048      \n",
      " ormalization)                                                   \n",
      "                                                                 \n",
      " activation (Activation)     (None, 512)               0         \n",
      "                                                                 \n",
      " dense_1 (Dense)             (None, 4)                 2052      \n",
      "                                                                 \n",
      "=================================================================\n",
      "Total params: 18,595,939\n",
      "Trainable params: 18,469,708\n",
      "Non-trainable params: 126,231\n",
      "_________________________________________________________________\n"
     ]
    }
   ],
   "source": [
    "model.summary()"
   ]
  },
  {
   "cell_type": "code",
   "execution_count": 12,
   "id": "0a96c7d0",
   "metadata": {},
   "outputs": [
    {
     "data": {
      "image/png": "[encoded data removed]",
      "text/plain": [
       "<Figure size 1000x500 with 2 Axes>"
      ]
     },
     "metadata": {},
     "output_type": "display_data"
    }
   ],
   "source": [
    "# 정확도와 로스 그래프\n",
    "his_dict = history.history\n",
    "loss = his_dict['loss']\n",
    "val_loss = his_dict['val_loss'] \n",
    "\n",
    "epochs = range(1, len(loss) + 1)\n",
    "fig = plt.figure(figsize = (10, 5))\n",
    "\n",
    "# 훈련 및 검증 손실 그리기\n",
    "ax1 = fig.add_subplot(1, 2, 1)\n",
    "ax1.plot(epochs, loss, color = 'blue', label = 'train_loss')\n",
    "ax1.plot(epochs, val_loss, color = 'orange', label = 'val_loss')\n",
    "ax1.set_title('train and val loss')\n",
    "ax1.set_xlabel('epochs')\n",
    "ax1.set_ylabel('loss')\n",
    "ax1.legend()\n",
    "\n",
    "acc = his_dict['accuracy']\n",
    "val_acc = his_dict['val_accuracy']\n",
    "\n",
    "# 훈련 및 검증 정확도 그리기\n",
    "ax2 = fig.add_subplot(1, 2, 2)\n",
    "ax2.plot(epochs, acc, color = 'blue', label = 'train_acc')\n",
    "ax2.plot(epochs, val_acc, color = 'orange', label = 'val_acc')\n",
    "ax2.set_title('train and val acc')\n",
    "ax2.set_xlabel('epochs')\n",
    "ax2.set_ylabel('acc')\n",
    "ax2.legend()\n",
    "\n",
    "plt.show()"
   ]
  },
  {
   "cell_type": "code",
   "execution_count": 13,
   "id": "c00dc11a",
   "metadata": {},
   "outputs": [],
   "source": [
    "# 6. 모델 저장하기\n",
    "from tensorflow.keras.models import load_model\n",
    "#model.save('./EfficientNetB5_32_tuning01.h5')"
   ]
  },
  {
   "cell_type": "code",
   "execution_count": 14,
   "id": "b92874ca",
   "metadata": {},
   "outputs": [],
   "source": [
    "#정확도 f1\n",
    "from sklearn.metrics import *\n",
    "def get_clf_eval(y_test,pred): \n",
    "  f1 = f1_score(y_test,pred,average=\"macro\") \n",
    "  acc = accuracy_score(y_val,predict)   \n",
    "  loss = model.evaluate(x_val, y_val, batch_size=32)\n",
    "  print('정확도 :',acc)\n",
    "  print('f1 score:',f1)\n",
    "  print('loss :',loss )"
   ]
  },
  {
   "cell_type": "code",
   "execution_count": 15,
   "id": "de8ad259",
   "metadata": {},
   "outputs": [
    {
     "name": "stdout",
     "output_type": "stream",
     "text": [
      "172/172 [==============================] - 8s 30ms/step\n"
     ]
    }
   ],
   "source": [
    "predcit = model.predict(x_val)\n",
    "predict = []\n",
    "for i in np.arange(len(predcit)):\n",
    "  labels = np.argmax(predcit[i])\n",
    "  predict.append(labels)\n",
    "predict = np.array(predict)\n",
    "predict = np_utils.to_categorical(predict)"
   ]
  },
  {
   "cell_type": "code",
   "execution_count": 16,
   "id": "b6e2dae7",
   "metadata": {},
   "outputs": [
    {
     "name": "stdout",
     "output_type": "stream",
     "text": [
      "172/172 [==============================] - 5s 32ms/step - loss: 0.3279 - accuracy: 0.9062\n",
      "정확도 : 0.90625\n",
      "f1 score: 0.9049151071603587\n",
      "loss : [0.3278549015522003, 0.90625]\n"
     ]
    }
   ],
   "source": [
    "#EfficientNetB4\n",
    "get_clf_eval(y_val,predict)"
   ]
  },
  {
   "cell_type": "code",
   "execution_count": null,
   "id": "3b51f202",
   "metadata": {},
   "outputs": [],
   "source": []
  }
 ],
 "metadata": {
  "kernelspec": {
   "display_name": "Python 3 (ipykernel)",
   "language": "python",
   "name": "python3"
  },
  "language_info": {
   "codemirror_mode": {
    "name": "ipython",
    "version": 3
   },
   "file_extension": ".py",
   "mimetype": "text/x-python",
   "name": "python",
   "nbconvert_exporter": "python",
   "pygments_lexer": "ipython3",
   "version": "3.7.12"
  }
 },
 "nbformat": 4,
 "nbformat_minor": 5
}
